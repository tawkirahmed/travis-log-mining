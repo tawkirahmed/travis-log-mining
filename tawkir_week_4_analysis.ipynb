{
  "nbformat": 4,
  "nbformat_minor": 0,
  "metadata": {
    "colab": {
      "name": "tawkir_week_4_analysis.ipynb",
      "provenance": [],
      "collapsed_sections": [],
      "include_colab_link": true
    },
    "kernelspec": {
      "name": "python3",
      "display_name": "Python 3"
    },
    "accelerator": "GPU"
  },
  "cells": [
    {
      "cell_type": "markdown",
      "metadata": {
        "id": "view-in-github",
        "colab_type": "text"
      },
      "source": [
        "<a href=\"https://colab.research.google.com/github/tawkirahmed/travis-log-mining/blob/develop/tawkir_week_4_analysis.ipynb\" target=\"_parent\"><img src=\"https://colab.research.google.com/assets/colab-badge.svg\" alt=\"Open In Colab\"/></a>"
      ]
    },
    {
      "cell_type": "markdown",
      "metadata": {
        "id": "nwP5d8buZySY",
        "colab_type": "text"
      },
      "source": [
        "# Configuration"
      ]
    },
    {
      "cell_type": "code",
      "metadata": {
        "id": "IJUgCx71ZE-E",
        "colab_type": "code",
        "outputId": "bafcd8e2-e523-42d9-e8d4-4f4c873e8bf3",
        "colab": {
          "base_uri": "https://localhost:8080/",
          "height": 122
        }
      },
      "source": [
        "from google.colab import drive\n",
        "drive.mount('/content/drive', force_remount=True)\n",
        "import os\n",
        "os.chdir(\"/content/drive/My Drive/Data Mining Lab Project\")\n",
        "dataset_path = '/content/drive/My Drive/Data Mining Lab Project/travistorrent_8_2_2017.csv'"
      ],
      "execution_count": 0,
      "outputs": [
        {
          "output_type": "stream",
          "text": [
            "Go to this URL in a browser: https://accounts.google.com/o/oauth2/auth?client_id=947318989803-6bn6qk8qdgf4n4g3pfee6491hc0brc4i.apps.googleusercontent.com&redirect_uri=urn%3aietf%3awg%3aoauth%3a2.0%3aoob&response_type=code&scope=email%20https%3a%2f%2fwww.googleapis.com%2fauth%2fdocs.test%20https%3a%2f%2fwww.googleapis.com%2fauth%2fdrive%20https%3a%2f%2fwww.googleapis.com%2fauth%2fdrive.photos.readonly%20https%3a%2f%2fwww.googleapis.com%2fauth%2fpeopleapi.readonly\n",
            "\n",
            "Enter your authorization code:\n",
            "··········\n",
            "Mounted at /content/drive\n"
          ],
          "name": "stdout"
        }
      ]
    },
    {
      "cell_type": "code",
      "metadata": {
        "id": "rp-ZWUV2Z94v",
        "colab_type": "code",
        "colab": {}
      },
      "source": [
        "import pandas as pd, numpy as np, matplotlib.pyplot as plt\n",
        "pd.options.display.float_format = '{:.6f}'.format\n",
        "import sys\n",
        "sys.path.insert(1, '/content/drive/My Drive/DataAnalytics')\n",
        "import data_helper\n",
        "import matplotlib.dates as mdates\n",
        "\n",
        "# pd.describe_option('display')\n",
        "pd.set_option('display.max_columns', None)  # or 1000\n",
        "pd.set_option('display.max_rows', 50)  # or 1000\n",
        "pd.set_option('display.max_colwidth', -1)  # or 199\n",
        "pd.set_option('display.width', 10000)\n",
        "pd.set_option('display.colheader_justify', 'left')"
      ],
      "execution_count": 0,
      "outputs": []
    },
    {
      "cell_type": "code",
      "metadata": {
        "id": "9W_lIaEWu-8O",
        "colab_type": "code",
        "colab": {}
      },
      "source": [
        "# style\n",
        "plt.style.use('fivethirtyeight')\n",
        "import matplotlib.font_manager\n",
        "plt.rcParams['font.family'] = 'serif'\n",
        "plt.rcParams['font.serif'] = 'Ubuntu'\n",
        "plt.rcParams['font.monospace'] = 'Ubuntu Mono'\n",
        "plt.rcParams['font.size'] = 20\n",
        "plt.rcParams['axes.labelsize'] = 10\n",
        "plt.rcParams['axes.labelweight'] = 'bold'\n",
        "plt.rcParams['axes.titlesize'] = 10\n",
        "plt.rcParams['xtick.labelsize'] = 8\n",
        "plt.rcParams['ytick.labelsize'] = 8\n",
        "plt.rcParams['legend.fontsize'] = 10\n",
        "plt.rcParams['figure.titlesize'] = 12"
      ],
      "execution_count": 0,
      "outputs": []
    },
    {
      "cell_type": "code",
      "metadata": {
        "id": "moy49KUCaFXt",
        "colab_type": "code",
        "outputId": "a5cebd16-71ac-4e43-8149-8ca0e95ff4a1",
        "colab": {
          "base_uri": "https://localhost:8080/",
          "height": 68
        }
      },
      "source": [
        "dataset = pd.read_csv(dataset_path, sep=',')\n",
        "dataset.shape"
      ],
      "execution_count": 0,
      "outputs": [
        {
          "output_type": "stream",
          "text": [
            "/usr/local/lib/python3.6/dist-packages/IPython/core/interactiveshell.py:2718: DtypeWarning: Columns (3,6,18) have mixed types. Specify dtype option on import or set low_memory=False.\n",
            "  interactivity=interactivity, compiler=compiler, result=result)\n"
          ],
          "name": "stderr"
        },
        {
          "output_type": "execute_result",
          "data": {
            "text/plain": [
              "(3702595, 62)"
            ]
          },
          "metadata": {
            "tags": []
          },
          "execution_count": 5
        }
      ]
    },
    {
      "cell_type": "markdown",
      "metadata": {
        "id": "gqq301yYcjrR",
        "colab_type": "text"
      },
      "source": [
        "# Focused Anomaly Analysis"
      ]
    },
    {
      "cell_type": "markdown",
      "metadata": {
        "id": "jZc7dLZZdwuR",
        "colab_type": "text"
      },
      "source": [
        "We are going to analyze 'tr_log_num_tests_ok', 'tr_log_num_tests_failed' 'tr_log_num_tests_run', 'tr_log_num_tests_skipped'"
      ]
    },
    {
      "cell_type": "code",
      "metadata": {
        "id": "o-TbwumNd6Vh",
        "colab_type": "code",
        "colab": {}
      },
      "source": [
        "target_cols = ['tr_log_num_tests_ok', 'tr_log_num_tests_failed', 'tr_log_num_tests_run', 'tr_log_num_tests_skipped']\n",
        "key_cols = ['gh_project_name', 'tr_build_id', 'tr_job_id']"
      ],
      "execution_count": 0,
      "outputs": []
    },
    {
      "cell_type": "code",
      "metadata": {
        "id": "hvN9hBpzg9yG",
        "colab_type": "code",
        "colab": {}
      },
      "source": [
        "# Let's see some stat\n",
        "target_col = target_cols[0]\n",
        "def gen_stat(data):\n",
        "    result = data.describe(percentiles = [0.1, 0.2, 0.5, 0.75, 0.90, 0.95, 0.98, 0.99]).T.reset_index().rename(columns={\"index\": \"feature_name\"})\n",
        "    # result.insert(0, 'gh_project_name', data['gh_project_name'].values[0])\n",
        "    return result\n",
        "\n",
        "stat = dataset[[target_col] + key_cols].groupby('gh_project_name').apply(gen_stat).reset_index().sort_values(['max'], ascending = False)"
      ],
      "execution_count": 0,
      "outputs": []
    },
    {
      "cell_type": "code",
      "metadata": {
        "id": "f_PAo1VjnRqK",
        "colab_type": "code",
        "outputId": "f3efe6ae-a9b4-4e71-e88d-6d4caef83342",
        "colab": {
          "base_uri": "https://localhost:8080/",
          "height": 1000
        }
      },
      "source": [
        "col_name = 'Num passed tests'\n",
        "plt.tight_layout()\n",
        "plt.style.use('ggplot')\n",
        "selected_total = 10 #len(stat)\n",
        "tem = stat\n",
        "# tem = stat [ stat['max'] > 50 ].sort_values(['max'], ascending = True)\n",
        "projects = tem['gh_project_name'].head(selected_total).values\n",
        "per_row = 2\n",
        "fig, axs = plt.subplots(selected_total // per_row,per_row)\n",
        "fig.subplots_adjust(hspace=.5)\n",
        "for project, ax in zip(projects, axs.flat):\n",
        "    selected_data = (\n",
        "        dataset[ dataset['gh_project_name'] == project][['tr_build_id', 'tr_log_num_tests_ok']]\n",
        "    ).dropna().sort_values(['tr_build_id'], ascending = True)\n",
        "    ax.title.set_text(project)\n",
        "    # ax.yaxis.set_label(col_name)\n",
        "    plot_kind = 'hist' # 'density' # 'scatter'\n",
        "    selected_data.plot(kind = plot_kind, x = 'tr_build_id', y = 'tr_log_num_tests_ok', ax = ax, figsize = (20, 15))\n",
        "    # ax.legend().get_texts()[0].set_text(col_name)\n",
        "    ax.set(xlabel=\"Builds\", ylabel=col_name)"
      ],
      "execution_count": 0,
      "outputs": [
        {
          "output_type": "error",
          "ename": "TypeError",
          "evalue": "ignored",
          "traceback": [
            "\u001b[0;31m---------------------------------------------------------------------------\u001b[0m",
            "\u001b[0;31mTypeError\u001b[0m                                 Traceback (most recent call last)",
            "\u001b[0;32m<ipython-input-7-680bace6b9e4>\u001b[0m in \u001b[0;36m<module>\u001b[0;34m()\u001b[0m\n\u001b[1;32m     16\u001b[0m     \u001b[0;31m# ax.yaxis.set_label(col_name)\u001b[0m\u001b[0;34m\u001b[0m\u001b[0;34m\u001b[0m\u001b[0;34m\u001b[0m\u001b[0m\n\u001b[1;32m     17\u001b[0m     \u001b[0mplot_kind\u001b[0m \u001b[0;34m=\u001b[0m \u001b[0;34m'hist'\u001b[0m \u001b[0;31m# 'density' # 'scatter'\u001b[0m\u001b[0;34m\u001b[0m\u001b[0;34m\u001b[0m\u001b[0m\n\u001b[0;32m---> 18\u001b[0;31m     \u001b[0mselected_data\u001b[0m\u001b[0;34m.\u001b[0m\u001b[0mplot\u001b[0m\u001b[0;34m(\u001b[0m\u001b[0mkind\u001b[0m \u001b[0;34m=\u001b[0m \u001b[0mplot_kind\u001b[0m\u001b[0;34m,\u001b[0m \u001b[0mx\u001b[0m \u001b[0;34m=\u001b[0m \u001b[0;34m'tr_build_id'\u001b[0m\u001b[0;34m,\u001b[0m \u001b[0my\u001b[0m \u001b[0;34m=\u001b[0m \u001b[0;34m'tr_log_num_tests_ok'\u001b[0m\u001b[0;34m,\u001b[0m \u001b[0max\u001b[0m \u001b[0;34m=\u001b[0m \u001b[0max\u001b[0m\u001b[0;34m,\u001b[0m \u001b[0mfigsize\u001b[0m \u001b[0;34m=\u001b[0m \u001b[0;34m(\u001b[0m\u001b[0;36m20\u001b[0m\u001b[0;34m,\u001b[0m \u001b[0;36m15\u001b[0m\u001b[0;34m)\u001b[0m\u001b[0;34m)\u001b[0m\u001b[0;34m\u001b[0m\u001b[0;34m\u001b[0m\u001b[0m\n\u001b[0m\u001b[1;32m     19\u001b[0m     \u001b[0;31m# ax.legend().get_texts()[0].set_text(col_name)\u001b[0m\u001b[0;34m\u001b[0m\u001b[0;34m\u001b[0m\u001b[0;34m\u001b[0m\u001b[0m\n\u001b[1;32m     20\u001b[0m     \u001b[0max\u001b[0m\u001b[0;34m.\u001b[0m\u001b[0mset\u001b[0m\u001b[0;34m(\u001b[0m\u001b[0mxlabel\u001b[0m\u001b[0;34m=\u001b[0m\u001b[0;34m\"Builds\"\u001b[0m\u001b[0;34m,\u001b[0m \u001b[0mylabel\u001b[0m\u001b[0;34m=\u001b[0m\u001b[0mcol_name\u001b[0m\u001b[0;34m)\u001b[0m\u001b[0;34m\u001b[0m\u001b[0;34m\u001b[0m\u001b[0m\n",
            "\u001b[0;32m/usr/local/lib/python3.6/dist-packages/pandas/plotting/_core.py\u001b[0m in \u001b[0;36m__call__\u001b[0;34m(self, *args, **kwargs)\u001b[0m\n\u001b[1;32m    792\u001b[0m                     \u001b[0mdata\u001b[0m\u001b[0;34m.\u001b[0m\u001b[0mcolumns\u001b[0m \u001b[0;34m=\u001b[0m \u001b[0mlabel_name\u001b[0m\u001b[0;34m\u001b[0m\u001b[0;34m\u001b[0m\u001b[0m\n\u001b[1;32m    793\u001b[0m \u001b[0;34m\u001b[0m\u001b[0m\n\u001b[0;32m--> 794\u001b[0;31m         \u001b[0;32mreturn\u001b[0m \u001b[0mplot_backend\u001b[0m\u001b[0;34m.\u001b[0m\u001b[0mplot\u001b[0m\u001b[0;34m(\u001b[0m\u001b[0mdata\u001b[0m\u001b[0;34m,\u001b[0m \u001b[0mkind\u001b[0m\u001b[0;34m=\u001b[0m\u001b[0mkind\u001b[0m\u001b[0;34m,\u001b[0m \u001b[0;34m**\u001b[0m\u001b[0mkwargs\u001b[0m\u001b[0;34m)\u001b[0m\u001b[0;34m\u001b[0m\u001b[0;34m\u001b[0m\u001b[0m\n\u001b[0m\u001b[1;32m    795\u001b[0m \u001b[0;34m\u001b[0m\u001b[0m\n\u001b[1;32m    796\u001b[0m     \u001b[0;32mdef\u001b[0m \u001b[0mline\u001b[0m\u001b[0;34m(\u001b[0m\u001b[0mself\u001b[0m\u001b[0;34m,\u001b[0m \u001b[0mx\u001b[0m\u001b[0;34m=\u001b[0m\u001b[0;32mNone\u001b[0m\u001b[0;34m,\u001b[0m \u001b[0my\u001b[0m\u001b[0;34m=\u001b[0m\u001b[0;32mNone\u001b[0m\u001b[0;34m,\u001b[0m \u001b[0;34m**\u001b[0m\u001b[0mkwargs\u001b[0m\u001b[0;34m)\u001b[0m\u001b[0;34m:\u001b[0m\u001b[0;34m\u001b[0m\u001b[0;34m\u001b[0m\u001b[0m\n",
            "\u001b[0;32m/usr/local/lib/python3.6/dist-packages/pandas/plotting/_matplotlib/__init__.py\u001b[0m in \u001b[0;36mplot\u001b[0;34m(data, kind, **kwargs)\u001b[0m\n\u001b[1;32m     60\u001b[0m             \u001b[0mkwargs\u001b[0m\u001b[0;34m[\u001b[0m\u001b[0;34m\"ax\"\u001b[0m\u001b[0;34m]\u001b[0m \u001b[0;34m=\u001b[0m \u001b[0mgetattr\u001b[0m\u001b[0;34m(\u001b[0m\u001b[0max\u001b[0m\u001b[0;34m,\u001b[0m \u001b[0;34m\"left_ax\"\u001b[0m\u001b[0;34m,\u001b[0m \u001b[0max\u001b[0m\u001b[0;34m)\u001b[0m\u001b[0;34m\u001b[0m\u001b[0;34m\u001b[0m\u001b[0m\n\u001b[1;32m     61\u001b[0m     \u001b[0mplot_obj\u001b[0m \u001b[0;34m=\u001b[0m \u001b[0mPLOT_CLASSES\u001b[0m\u001b[0;34m[\u001b[0m\u001b[0mkind\u001b[0m\u001b[0;34m]\u001b[0m\u001b[0;34m(\u001b[0m\u001b[0mdata\u001b[0m\u001b[0;34m,\u001b[0m \u001b[0;34m**\u001b[0m\u001b[0mkwargs\u001b[0m\u001b[0;34m)\u001b[0m\u001b[0;34m\u001b[0m\u001b[0;34m\u001b[0m\u001b[0m\n\u001b[0;32m---> 62\u001b[0;31m     \u001b[0mplot_obj\u001b[0m\u001b[0;34m.\u001b[0m\u001b[0mgenerate\u001b[0m\u001b[0;34m(\u001b[0m\u001b[0;34m)\u001b[0m\u001b[0;34m\u001b[0m\u001b[0;34m\u001b[0m\u001b[0m\n\u001b[0m\u001b[1;32m     63\u001b[0m     \u001b[0mplot_obj\u001b[0m\u001b[0;34m.\u001b[0m\u001b[0mdraw\u001b[0m\u001b[0;34m(\u001b[0m\u001b[0;34m)\u001b[0m\u001b[0;34m\u001b[0m\u001b[0;34m\u001b[0m\u001b[0m\n\u001b[1;32m     64\u001b[0m     \u001b[0;32mreturn\u001b[0m \u001b[0mplot_obj\u001b[0m\u001b[0;34m.\u001b[0m\u001b[0mresult\u001b[0m\u001b[0;34m\u001b[0m\u001b[0;34m\u001b[0m\u001b[0m\n",
            "\u001b[0;32m/usr/local/lib/python3.6/dist-packages/pandas/plotting/_matplotlib/core.py\u001b[0m in \u001b[0;36mgenerate\u001b[0;34m(self)\u001b[0m\n\u001b[1;32m    277\u001b[0m     \u001b[0;32mdef\u001b[0m \u001b[0mgenerate\u001b[0m\u001b[0;34m(\u001b[0m\u001b[0mself\u001b[0m\u001b[0;34m)\u001b[0m\u001b[0;34m:\u001b[0m\u001b[0;34m\u001b[0m\u001b[0;34m\u001b[0m\u001b[0m\n\u001b[1;32m    278\u001b[0m         \u001b[0mself\u001b[0m\u001b[0;34m.\u001b[0m\u001b[0m_args_adjust\u001b[0m\u001b[0;34m(\u001b[0m\u001b[0;34m)\u001b[0m\u001b[0;34m\u001b[0m\u001b[0;34m\u001b[0m\u001b[0m\n\u001b[0;32m--> 279\u001b[0;31m         \u001b[0mself\u001b[0m\u001b[0;34m.\u001b[0m\u001b[0m_compute_plot_data\u001b[0m\u001b[0;34m(\u001b[0m\u001b[0;34m)\u001b[0m\u001b[0;34m\u001b[0m\u001b[0;34m\u001b[0m\u001b[0m\n\u001b[0m\u001b[1;32m    280\u001b[0m         \u001b[0mself\u001b[0m\u001b[0;34m.\u001b[0m\u001b[0m_setup_subplots\u001b[0m\u001b[0;34m(\u001b[0m\u001b[0;34m)\u001b[0m\u001b[0;34m\u001b[0m\u001b[0;34m\u001b[0m\u001b[0m\n\u001b[1;32m    281\u001b[0m         \u001b[0mself\u001b[0m\u001b[0;34m.\u001b[0m\u001b[0m_make_plot\u001b[0m\u001b[0;34m(\u001b[0m\u001b[0;34m)\u001b[0m\u001b[0;34m\u001b[0m\u001b[0;34m\u001b[0m\u001b[0m\n",
            "\u001b[0;32m/usr/local/lib/python3.6/dist-packages/pandas/plotting/_matplotlib/core.py\u001b[0m in \u001b[0;36m_compute_plot_data\u001b[0;34m(self)\u001b[0m\n\u001b[1;32m    412\u001b[0m         \u001b[0;31m# no non-numeric frames or series allowed\u001b[0m\u001b[0;34m\u001b[0m\u001b[0;34m\u001b[0m\u001b[0;34m\u001b[0m\u001b[0m\n\u001b[1;32m    413\u001b[0m         \u001b[0;32mif\u001b[0m \u001b[0mis_empty\u001b[0m\u001b[0;34m:\u001b[0m\u001b[0;34m\u001b[0m\u001b[0;34m\u001b[0m\u001b[0m\n\u001b[0;32m--> 414\u001b[0;31m             \u001b[0;32mraise\u001b[0m \u001b[0mTypeError\u001b[0m\u001b[0;34m(\u001b[0m\u001b[0;34m\"no numeric data to plot\"\u001b[0m\u001b[0;34m)\u001b[0m\u001b[0;34m\u001b[0m\u001b[0;34m\u001b[0m\u001b[0m\n\u001b[0m\u001b[1;32m    415\u001b[0m \u001b[0;34m\u001b[0m\u001b[0m\n\u001b[1;32m    416\u001b[0m         \u001b[0;31m# GH25587: cast ExtensionArray of pandas (IntegerArray, etc.) to\u001b[0m\u001b[0;34m\u001b[0m\u001b[0;34m\u001b[0m\u001b[0;34m\u001b[0m\u001b[0m\n",
            "\u001b[0;31mTypeError\u001b[0m: no numeric data to plot"
          ]
        },
        {
          "output_type": "display_data",
          "data": {
            "text/plain": [
              "<Figure size 432x288 with 0 Axes>"
            ]
          },
          "metadata": {
            "tags": []
          }
        },
        {
          "output_type": "stream",
          "text": [
            "findfont: Font family ['serif'] not found. Falling back to DejaVu Sans.\n",
            "findfont: Font family ['serif'] not found. Falling back to DejaVu Sans.\n",
            "findfont: Font family ['serif'] not found. Falling back to DejaVu Sans.\n",
            "findfont: Font family ['serif'] not found. Falling back to DejaVu Sans.\n"
          ],
          "name": "stderr"
        },
        {
          "output_type": "display_data",
          "data": {
            "image/png": "[encoded data removed]",
            "text/plain": [
              "<Figure size 1440x1080 with 10 Axes>"
            ]
          },
          "metadata": {
            "tags": []
          }
        }
      ]
    },
    {
      "cell_type": "markdown",
      "metadata": {
        "id": "yY2VdG-UbPAc",
        "colab_type": "text"
      },
      "source": [
        "# Distribution"
      ]
    },
    {
      "cell_type": "code",
      "metadata": {
        "id": "MVRrAmAxb-Cz",
        "colab_type": "code",
        "outputId": "f8d42e9d-755b-49c0-a389-8b379e40fd5f",
        "colab": {
          "base_uri": "https://localhost:8080/",
          "height": 258
        }
      },
      "source": [
        "stat.head(5)"
      ],
      "execution_count": 0,
      "outputs": [
        {
          "output_type": "execute_result",
          "data": {
            "text/html": [
              "<div>\n",
              "<style scoped>\n",
              "    .dataframe tbody tr th:only-of-type {\n",
              "        vertical-align: middle;\n",
              "    }\n",
              "\n",
              "    .dataframe tbody tr th {\n",
              "        vertical-align: top;\n",
              "    }\n",
              "\n",
              "    .dataframe thead th {\n",
              "        text-align: right;\n",
              "    }\n",
              "</style>\n",
              "<table border=\"1\" class=\"dataframe\">\n",
              "  <thead>\n",
              "    <tr style=\"text-align: left;\">\n",
              "      <th></th>\n",
              "      <th>gh_project_name</th>\n",
              "      <th>level_1</th>\n",
              "      <th>feature_name</th>\n",
              "      <th>count</th>\n",
              "      <th>mean</th>\n",
              "      <th>std</th>\n",
              "      <th>min</th>\n",
              "      <th>10%</th>\n",
              "      <th>20%</th>\n",
              "      <th>50%</th>\n",
              "      <th>75%</th>\n",
              "      <th>90%</th>\n",
              "      <th>95%</th>\n",
              "      <th>98%</th>\n",
              "      <th>99%</th>\n",
              "      <th>max</th>\n",
              "    </tr>\n",
              "  </thead>\n",
              "  <tbody>\n",
              "    <tr>\n",
              "      <th>1427</th>\n",
              "      <td>google/closure-compiler</td>\n",
              "      <td>2</td>\n",
              "      <td>tr_job_id</td>\n",
              "      <td>595.000000</td>\n",
              "      <td>124089475.900840</td>\n",
              "      <td>19065991.013384</td>\n",
              "      <td>96799385.000000</td>\n",
              "      <td>101222802.400000</td>\n",
              "      <td>105625838.600000</td>\n",
              "      <td>119679243.000000</td>\n",
              "      <td>143142725.500000</td>\n",
              "      <td>151202940.600000</td>\n",
              "      <td>153786080.500000</td>\n",
              "      <td>155523340.600000</td>\n",
              "      <td>156104779.900000</td>\n",
              "      <td>156676296.000000</td>\n",
              "    </tr>\n",
              "    <tr>\n",
              "      <th>1426</th>\n",
              "      <td>google/closure-compiler</td>\n",
              "      <td>1</td>\n",
              "      <td>tr_build_id</td>\n",
              "      <td>595.000000</td>\n",
              "      <td>124089474.643697</td>\n",
              "      <td>19065990.768483</td>\n",
              "      <td>96799384.000000</td>\n",
              "      <td>101222801.400000</td>\n",
              "      <td>105625837.600000</td>\n",
              "      <td>119679242.000000</td>\n",
              "      <td>143142718.000000</td>\n",
              "      <td>151202939.200000</td>\n",
              "      <td>153786078.800000</td>\n",
              "      <td>155523338.600000</td>\n",
              "      <td>156104777.960000</td>\n",
              "      <td>156676294.000000</td>\n",
              "    </tr>\n",
              "    <tr>\n",
              "      <th>3434</th>\n",
              "      <td>svenfuchs/rails-i18n</td>\n",
              "      <td>2</td>\n",
              "      <td>tr_job_id</td>\n",
              "      <td>1569.000000</td>\n",
              "      <td>34713892.159975</td>\n",
              "      <td>36363617.426622</td>\n",
              "      <td>981351.000000</td>\n",
              "      <td>2675101.800000</td>\n",
              "      <td>5221710.600000</td>\n",
              "      <td>19842142.000000</td>\n",
              "      <td>52123027.000000</td>\n",
              "      <td>92221284.200000</td>\n",
              "      <td>105677250.400000</td>\n",
              "      <td>129843141.080000</td>\n",
              "      <td>139234412.960000</td>\n",
              "      <td>156675550.000000</td>\n",
              "    </tr>\n",
              "    <tr>\n",
              "      <th>3433</th>\n",
              "      <td>svenfuchs/rails-i18n</td>\n",
              "      <td>1</td>\n",
              "      <td>tr_build_id</td>\n",
              "      <td>1569.000000</td>\n",
              "      <td>34713889.700446</td>\n",
              "      <td>36363616.741816</td>\n",
              "      <td>981350.000000</td>\n",
              "      <td>2675100.000000</td>\n",
              "      <td>5221709.000000</td>\n",
              "      <td>19842141.000000</td>\n",
              "      <td>52123024.000000</td>\n",
              "      <td>92221282.000000</td>\n",
              "      <td>105677245.400000</td>\n",
              "      <td>129843139.720000</td>\n",
              "      <td>139234411.000000</td>\n",
              "      <td>156675548.000000</td>\n",
              "    </tr>\n",
              "    <tr>\n",
              "      <th>2723</th>\n",
              "      <td>projecthydra/sufia</td>\n",
              "      <td>2</td>\n",
              "      <td>tr_job_id</td>\n",
              "      <td>6457.000000</td>\n",
              "      <td>63829089.149450</td>\n",
              "      <td>45636279.786630</td>\n",
              "      <td>6434846.000000</td>\n",
              "      <td>10932193.600000</td>\n",
              "      <td>22638135.200000</td>\n",
              "      <td>51006265.000000</td>\n",
              "      <td>104916878.000000</td>\n",
              "      <td>135727541.200000</td>\n",
              "      <td>143904511.800000</td>\n",
              "      <td>154900944.760000</td>\n",
              "      <td>155985788.440000</td>\n",
              "      <td>156671242.000000</td>\n",
              "    </tr>\n",
              "  </tbody>\n",
              "</table>\n",
              "</div>"
            ],
            "text/plain": [
              "     gh_project_name           level_1 feature_name  count       mean             std             min             10%              20%              50%              75%              90%              95%              98%              99%              max            \n",
              "1427  google/closure-compiler  2        tr_job_id   595.000000  124089475.900840 19065991.013384 96799385.000000 101222802.400000 105625838.600000 119679243.000000 143142725.500000 151202940.600000 153786080.500000 155523340.600000 156104779.900000 156676296.000000\n",
              "1426  google/closure-compiler  1        tr_build_id 595.000000  124089474.643697 19065990.768483 96799384.000000 101222801.400000 105625837.600000 119679242.000000 143142718.000000 151202939.200000 153786078.800000 155523338.600000 156104777.960000 156676294.000000\n",
              "3434  svenfuchs/rails-i18n     2        tr_job_id   1569.000000 34713892.159975  36363617.426622 981351.000000   2675101.800000   5221710.600000   19842142.000000  52123027.000000  92221284.200000  105677250.400000 129843141.080000 139234412.960000 156675550.000000\n",
              "3433  svenfuchs/rails-i18n     1        tr_build_id 1569.000000 34713889.700446  36363616.741816 981350.000000   2675100.000000   5221709.000000   19842141.000000  52123024.000000  92221282.000000  105677245.400000 129843139.720000 139234411.000000 156675548.000000\n",
              "2723  projecthydra/sufia       2        tr_job_id   6457.000000 63829089.149450  45636279.786630 6434846.000000  10932193.600000  22638135.200000  51006265.000000  104916878.000000 135727541.200000 143904511.800000 154900944.760000 155985788.440000 156671242.000000"
            ]
          },
          "metadata": {
            "tags": []
          },
          "execution_count": 8
        }
      ]
    },
    {
      "cell_type": "code",
      "metadata": {
        "id": "nsPN9m9cbTQf",
        "colab_type": "code",
        "outputId": "ba8f20f9-1608-49fa-d8e5-587a71f243cd",
        "colab": {
          "base_uri": "https://localhost:8080/",
          "height": 974
        }
      },
      "source": [
        "import math\n",
        "def cubeRoot(x): return math.ceil(x**(1./3.))\n",
        "\n",
        "# TODO: Choose more appropriate bin strategy since our data is not normal and it does have outliers: Freedman–Diaconis' choice\n",
        "no_of_bins = 2 * cubeRoot(len(dataset)) # Rice Rule: https://en.wikipedia.org/wiki/Histogram#Rice_Rule\n",
        "\n",
        "graph_input = (\n",
        "        # dataset[['tr_build_id', 'tr_log_num_tests_ok']]\n",
        "        dataset[ dataset['gh_project_name'] == \"rspec/rspec-expectations\"][['tr_build_id', 'tr_log_num_tests_ok']]\n",
        "    ).dropna() #.sort_values(['tr_build_id'], ascending = True)\n",
        "\n",
        "# dataset['tr_log_num_tests_ok'] = dataset['tr_log_num_tests_ok'] / 1000\n",
        "# dataset[['tr_build_id', 'tr_log_num_tests_ok']].plot.hist(bins = no_of_bins, x = 'tr_build_id', y = 'tr_log_num_tests_ok', figsize = (20, 15), logy = True)\n",
        "dataset[['gh_project_name', 'tr_log_num_tests_ok']].boxplot(column = 'tr_log_num_tests_ok', by = 'gh_project_name', figsize = (20, 15), grid = True)\n",
        "# graph_input.plot(kind = 'density', x = 'tr_build_id', y = 'tr_log_num_tests_ok', figsize = (20, 15))"
      ],
      "execution_count": 0,
      "outputs": [
        {
          "output_type": "execute_result",
          "data": {
            "text/plain": [
              "<matplotlib.axes._subplots.AxesSubplot at 0x7f661134e160>"
            ]
          },
          "metadata": {
            "tags": []
          },
          "execution_count": 9
        },
        {
          "output_type": "stream",
          "text": [
            "findfont: Font family ['serif'] not found. Falling back to DejaVu Sans.\n"
          ],
          "name": "stderr"
        },
        {
          "output_type": "display_data",
          "data": {
            "image/png": "[encoded data removed]",
            "text/plain": [
              "<Figure size 1440x1080 with 1 Axes>"
            ]
          },
          "metadata": {
            "tags": []
          }
        }
      ]
    },
    {
      "cell_type": "markdown",
      "metadata": {
        "id": "2BN9aZu3ZTJ6",
        "colab_type": "text"
      },
      "source": [
        "## Identifying outliers"
      ]
    },
    {
      "cell_type": "markdown",
      "metadata": {
        "id": "UWSsEHV8ZV5P",
        "colab_type": "text"
      },
      "source": [
        "We are going to use IQR for identifying the outliers"
      ]
    },
    {
      "cell_type": "code",
      "metadata": {
        "id": "M2MPfve2ZbO_",
        "colab_type": "code",
        "colab": {}
      },
      "source": [
        "def outlier_iqr(s, k=1.5):\n",
        "    \"\"\"\n",
        "    Return a boolean mask of outliers for a series\n",
        "    using interquartile range, works column-wise.\n",
        "    param k:\n",
        "        some cutoff to multiply by the iqr\n",
        "    :type k: ``float``\n",
        "    param return_thresholds:\n",
        "        True returns the lower and upper bounds, good for plotting.\n",
        "        False returns the masked array \n",
        "    :type return_thresholds: ``bool``\n",
        "    \"\"\"\n",
        "    # calculate interquartile range\n",
        "    q25, q75 = np.percentile(s, 25), np.percentile(s, 75)\n",
        "    iqr = q75 - q25\n",
        "    # calculate the outlier cutoff\n",
        "    cut_off = iqr * k\n",
        "    lower, upper = q25 - cut_off, q75 + cut_off\n",
        "    # mark identifier in the series\n",
        "    data = ((s < lower) | (s>upper))\n",
        "    return (data, iqr, cut_off, lower, upper)\n",
        "\n",
        "def calculate_outliers(data, target_cols):\n",
        "    for target_col in target_cols:\n",
        "        outlier_col_name = target_col + '_is_outlier'\n",
        "        col_index = data.columns.get_loc(target_col)\n",
        "        is_outlier, iqr, cut_off, lower, upper = outlier_iqr(data[target_col])\n",
        "        data.insert(col_index + 1, outlier_col_name, is_outlier)\n",
        "        data.insert(col_index + 2, target_col + \"_iqr\", iqr)\n",
        "        data.insert(col_index + 3, target_col + \"_cut_off\", cut_off)\n",
        "        data.insert(col_index + 4, target_col + \"_lower_limit\", lower)\n",
        "        data.insert(col_index + 5, target_col + \"_upper_limit\", upper)\n",
        "    \n",
        "    return data\n",
        "    \n",
        "result = dataset.groupby('gh_project_name')[ key_cols + target_cols].apply(calculate_outliers, target_cols)"
      ],
      "execution_count": 0,
      "outputs": []
    },
    {
      "cell_type": "code",
      "metadata": {
        "id": "mR1OHoWbj_Qr",
        "colab_type": "code",
        "outputId": "56bab983-795c-4cdd-f27a-9208f10d1598",
        "colab": {
          "base_uri": "https://localhost:8080/",
          "height": 473
        }
      },
      "source": [
        "def gen_stat(data):\n",
        "    outlier_cols = [col for col in data.columns.values if col.endswith('is_outlier')]\n",
        "    df = {'tr_build_id': [ data['tr_build_id'].values[0] ]}\n",
        "    for col in outlier_cols:\n",
        "        col_name = col.replace('_is_', '_total_')\n",
        "        df[col_name] = [data[col].sum()]\n",
        "        actual_col_name = col.replace('_is_outlier', '')\n",
        "\n",
        "        df[actual_col_name + \"_iqr\"] = [ data[actual_col_name + \"_iqr\"].values[0] ]\n",
        "        df[actual_col_name + \"_cut_off\"] = [ data[actual_col_name + \"_cut_off\"].values[0] ]\n",
        "        df[actual_col_name + \"_lower_limit\"] = [ data[actual_col_name + \"_lower_limit\"].values[0] ]\n",
        "        df[actual_col_name + \"_upper_limit\"] = [ data[actual_col_name + \"_upper_limit\"].values[0] ]\n",
        "    \n",
        "    return pd.DataFrame(data=df)\n",
        "\n",
        "result.groupby('gh_project_name').apply(gen_stat).reset_index()"
      ],
      "execution_count": 0,
      "outputs": [
        {
          "output_type": "execute_result",
          "data": {
            "text/html": [
              "<div>\n",
              "<style scoped>\n",
              "    .dataframe tbody tr th:only-of-type {\n",
              "        vertical-align: middle;\n",
              "    }\n",
              "\n",
              "    .dataframe tbody tr th {\n",
              "        vertical-align: top;\n",
              "    }\n",
              "\n",
              "    .dataframe thead th {\n",
              "        text-align: right;\n",
              "    }\n",
              "</style>\n",
              "<table border=\"1\" class=\"dataframe\">\n",
              "  <thead>\n",
              "    <tr style=\"text-align: left;\">\n",
              "      <th></th>\n",
              "      <th>gh_project_name</th>\n",
              "      <th>level_1</th>\n",
              "      <th>tr_build_id</th>\n",
              "      <th>tr_log_num_tests_ok_total_outlier</th>\n",
              "      <th>tr_log_num_tests_ok_iqr</th>\n",
              "      <th>tr_log_num_tests_ok_cut_off</th>\n",
              "      <th>tr_log_num_tests_ok_lower_limit</th>\n",
              "      <th>tr_log_num_tests_ok_upper_limit</th>\n",
              "      <th>tr_log_num_tests_failed_total_outlier</th>\n",
              "      <th>tr_log_num_tests_failed_iqr</th>\n",
              "      <th>tr_log_num_tests_failed_cut_off</th>\n",
              "      <th>tr_log_num_tests_failed_lower_limit</th>\n",
              "      <th>tr_log_num_tests_failed_upper_limit</th>\n",
              "      <th>tr_log_num_tests_run_total_outlier</th>\n",
              "      <th>tr_log_num_tests_run_iqr</th>\n",
              "      <th>tr_log_num_tests_run_cut_off</th>\n",
              "      <th>tr_log_num_tests_run_lower_limit</th>\n",
              "      <th>tr_log_num_tests_run_upper_limit</th>\n",
              "      <th>tr_log_num_tests_skipped_total_outlier</th>\n",
              "      <th>tr_log_num_tests_skipped_iqr</th>\n",
              "      <th>tr_log_num_tests_skipped_cut_off</th>\n",
              "      <th>tr_log_num_tests_skipped_lower_limit</th>\n",
              "      <th>tr_log_num_tests_skipped_upper_limit</th>\n",
              "    </tr>\n",
              "  </thead>\n",
              "  <tbody>\n",
              "    <tr>\n",
              "      <th>0</th>\n",
              "      <td>47deg/appsly-android-rest</td>\n",
              "      <td>0</td>\n",
              "      <td>4200090</td>\n",
              "      <td>0</td>\n",
              "      <td>nan</td>\n",
              "      <td>nan</td>\n",
              "      <td>nan</td>\n",
              "      <td>nan</td>\n",
              "      <td>0</td>\n",
              "      <td>nan</td>\n",
              "      <td>nan</td>\n",
              "      <td>nan</td>\n",
              "      <td>nan</td>\n",
              "      <td>0</td>\n",
              "      <td>nan</td>\n",
              "      <td>nan</td>\n",
              "      <td>nan</td>\n",
              "      <td>nan</td>\n",
              "      <td>0</td>\n",
              "      <td>nan</td>\n",
              "      <td>nan</td>\n",
              "      <td>nan</td>\n",
              "      <td>nan</td>\n",
              "    </tr>\n",
              "    <tr>\n",
              "      <th>1</th>\n",
              "      <td>AChep/AcDisplay</td>\n",
              "      <td>0</td>\n",
              "      <td>30496591</td>\n",
              "      <td>0</td>\n",
              "      <td>nan</td>\n",
              "      <td>nan</td>\n",
              "      <td>nan</td>\n",
              "      <td>nan</td>\n",
              "      <td>0</td>\n",
              "      <td>nan</td>\n",
              "      <td>nan</td>\n",
              "      <td>nan</td>\n",
              "      <td>nan</td>\n",
              "      <td>0</td>\n",
              "      <td>nan</td>\n",
              "      <td>nan</td>\n",
              "      <td>nan</td>\n",
              "      <td>nan</td>\n",
              "      <td>0</td>\n",
              "      <td>nan</td>\n",
              "      <td>nan</td>\n",
              "      <td>nan</td>\n",
              "      <td>nan</td>\n",
              "    </tr>\n",
              "    <tr>\n",
              "      <th>2</th>\n",
              "      <td>ActiveJpa/activejpa</td>\n",
              "      <td>0</td>\n",
              "      <td>7493595</td>\n",
              "      <td>0</td>\n",
              "      <td>nan</td>\n",
              "      <td>nan</td>\n",
              "      <td>nan</td>\n",
              "      <td>nan</td>\n",
              "      <td>0</td>\n",
              "      <td>nan</td>\n",
              "      <td>nan</td>\n",
              "      <td>nan</td>\n",
              "      <td>nan</td>\n",
              "      <td>0</td>\n",
              "      <td>nan</td>\n",
              "      <td>nan</td>\n",
              "      <td>nan</td>\n",
              "      <td>nan</td>\n",
              "      <td>0</td>\n",
              "      <td>nan</td>\n",
              "      <td>nan</td>\n",
              "      <td>nan</td>\n",
              "      <td>nan</td>\n",
              "    </tr>\n",
              "    <tr>\n",
              "      <th>3</th>\n",
              "      <td>Albacore/albacore</td>\n",
              "      <td>0</td>\n",
              "      <td>2237661</td>\n",
              "      <td>0</td>\n",
              "      <td>nan</td>\n",
              "      <td>nan</td>\n",
              "      <td>nan</td>\n",
              "      <td>nan</td>\n",
              "      <td>0</td>\n",
              "      <td>nan</td>\n",
              "      <td>nan</td>\n",
              "      <td>nan</td>\n",
              "      <td>nan</td>\n",
              "      <td>0</td>\n",
              "      <td>nan</td>\n",
              "      <td>nan</td>\n",
              "      <td>nan</td>\n",
              "      <td>nan</td>\n",
              "      <td>0</td>\n",
              "      <td>nan</td>\n",
              "      <td>nan</td>\n",
              "      <td>nan</td>\n",
              "      <td>nan</td>\n",
              "    </tr>\n",
              "    <tr>\n",
              "      <th>4</th>\n",
              "      <td>ArturT/knapsack</td>\n",
              "      <td>0</td>\n",
              "      <td>29171312</td>\n",
              "      <td>0</td>\n",
              "      <td>nan</td>\n",
              "      <td>nan</td>\n",
              "      <td>nan</td>\n",
              "      <td>nan</td>\n",
              "      <td>0</td>\n",
              "      <td>nan</td>\n",
              "      <td>nan</td>\n",
              "      <td>nan</td>\n",
              "      <td>nan</td>\n",
              "      <td>0</td>\n",
              "      <td>nan</td>\n",
              "      <td>nan</td>\n",
              "      <td>nan</td>\n",
              "      <td>nan</td>\n",
              "      <td>0</td>\n",
              "      <td>nan</td>\n",
              "      <td>nan</td>\n",
              "      <td>nan</td>\n",
              "      <td>nan</td>\n",
              "    </tr>\n",
              "    <tr>\n",
              "      <th>...</th>\n",
              "      <td>...</td>\n",
              "      <td>...</td>\n",
              "      <td>...</td>\n",
              "      <td>...</td>\n",
              "      <td>...</td>\n",
              "      <td>...</td>\n",
              "      <td>...</td>\n",
              "      <td>...</td>\n",
              "      <td>...</td>\n",
              "      <td>...</td>\n",
              "      <td>...</td>\n",
              "      <td>...</td>\n",
              "      <td>...</td>\n",
              "      <td>...</td>\n",
              "      <td>...</td>\n",
              "      <td>...</td>\n",
              "      <td>...</td>\n",
              "      <td>...</td>\n",
              "      <td>...</td>\n",
              "      <td>...</td>\n",
              "      <td>...</td>\n",
              "      <td>...</td>\n",
              "      <td>...</td>\n",
              "    </tr>\n",
              "    <tr>\n",
              "      <th>1278</th>\n",
              "      <td>zhangkaitao/es</td>\n",
              "      <td>0</td>\n",
              "      <td>4869884</td>\n",
              "      <td>0</td>\n",
              "      <td>nan</td>\n",
              "      <td>nan</td>\n",
              "      <td>nan</td>\n",
              "      <td>nan</td>\n",
              "      <td>0</td>\n",
              "      <td>nan</td>\n",
              "      <td>nan</td>\n",
              "      <td>nan</td>\n",
              "      <td>nan</td>\n",
              "      <td>0</td>\n",
              "      <td>nan</td>\n",
              "      <td>nan</td>\n",
              "      <td>nan</td>\n",
              "      <td>nan</td>\n",
              "      <td>0</td>\n",
              "      <td>nan</td>\n",
              "      <td>nan</td>\n",
              "      <td>nan</td>\n",
              "      <td>nan</td>\n",
              "    </tr>\n",
              "    <tr>\n",
              "      <th>1279</th>\n",
              "      <td>zinenko/vk-ruby</td>\n",
              "      <td>0</td>\n",
              "      <td>331989</td>\n",
              "      <td>0</td>\n",
              "      <td>nan</td>\n",
              "      <td>nan</td>\n",
              "      <td>nan</td>\n",
              "      <td>nan</td>\n",
              "      <td>0</td>\n",
              "      <td>nan</td>\n",
              "      <td>nan</td>\n",
              "      <td>nan</td>\n",
              "      <td>nan</td>\n",
              "      <td>0</td>\n",
              "      <td>nan</td>\n",
              "      <td>nan</td>\n",
              "      <td>nan</td>\n",
              "      <td>nan</td>\n",
              "      <td>0</td>\n",
              "      <td>nan</td>\n",
              "      <td>nan</td>\n",
              "      <td>nan</td>\n",
              "      <td>nan</td>\n",
              "    </tr>\n",
              "    <tr>\n",
              "      <th>1280</th>\n",
              "      <td>zmoazeni/csscss</td>\n",
              "      <td>0</td>\n",
              "      <td>5175224</td>\n",
              "      <td>0</td>\n",
              "      <td>nan</td>\n",
              "      <td>nan</td>\n",
              "      <td>nan</td>\n",
              "      <td>nan</td>\n",
              "      <td>0</td>\n",
              "      <td>nan</td>\n",
              "      <td>nan</td>\n",
              "      <td>nan</td>\n",
              "      <td>nan</td>\n",
              "      <td>0</td>\n",
              "      <td>nan</td>\n",
              "      <td>nan</td>\n",
              "      <td>nan</td>\n",
              "      <td>nan</td>\n",
              "      <td>0</td>\n",
              "      <td>nan</td>\n",
              "      <td>nan</td>\n",
              "      <td>nan</td>\n",
              "      <td>nan</td>\n",
              "    </tr>\n",
              "    <tr>\n",
              "      <th>1281</th>\n",
              "      <td>zquestz/omniauth-google-oauth2</td>\n",
              "      <td>0</td>\n",
              "      <td>8483676</td>\n",
              "      <td>0</td>\n",
              "      <td>nan</td>\n",
              "      <td>nan</td>\n",
              "      <td>nan</td>\n",
              "      <td>nan</td>\n",
              "      <td>0</td>\n",
              "      <td>nan</td>\n",
              "      <td>nan</td>\n",
              "      <td>nan</td>\n",
              "      <td>nan</td>\n",
              "      <td>0</td>\n",
              "      <td>nan</td>\n",
              "      <td>nan</td>\n",
              "      <td>nan</td>\n",
              "      <td>nan</td>\n",
              "      <td>0</td>\n",
              "      <td>nan</td>\n",
              "      <td>nan</td>\n",
              "      <td>nan</td>\n",
              "      <td>nan</td>\n",
              "    </tr>\n",
              "    <tr>\n",
              "      <th>1282</th>\n",
              "      <td>zxing/zxing</td>\n",
              "      <td>0</td>\n",
              "      <td>17118420</td>\n",
              "      <td>0</td>\n",
              "      <td>nan</td>\n",
              "      <td>nan</td>\n",
              "      <td>nan</td>\n",
              "      <td>nan</td>\n",
              "      <td>0</td>\n",
              "      <td>nan</td>\n",
              "      <td>nan</td>\n",
              "      <td>nan</td>\n",
              "      <td>nan</td>\n",
              "      <td>0</td>\n",
              "      <td>nan</td>\n",
              "      <td>nan</td>\n",
              "      <td>nan</td>\n",
              "      <td>nan</td>\n",
              "      <td>0</td>\n",
              "      <td>nan</td>\n",
              "      <td>nan</td>\n",
              "      <td>nan</td>\n",
              "      <td>nan</td>\n",
              "    </tr>\n",
              "  </tbody>\n",
              "</table>\n",
              "<p>1283 rows × 23 columns</p>\n",
              "</div>"
            ],
            "text/plain": [
              "     gh_project_name                  level_1  tr_build_id  tr_log_num_tests_ok_total_outlier  tr_log_num_tests_ok_iqr  tr_log_num_tests_ok_cut_off  tr_log_num_tests_ok_lower_limit  tr_log_num_tests_ok_upper_limit  tr_log_num_tests_failed_total_outlier  tr_log_num_tests_failed_iqr  tr_log_num_tests_failed_cut_off  tr_log_num_tests_failed_lower_limit  tr_log_num_tests_failed_upper_limit  tr_log_num_tests_run_total_outlier  tr_log_num_tests_run_iqr  tr_log_num_tests_run_cut_off  tr_log_num_tests_run_lower_limit  tr_log_num_tests_run_upper_limit  tr_log_num_tests_skipped_total_outlier  tr_log_num_tests_skipped_iqr  tr_log_num_tests_skipped_cut_off  tr_log_num_tests_skipped_lower_limit  tr_log_num_tests_skipped_upper_limit\n",
              "0     47deg/appsly-android-rest       0        4200090      0                                 nan                      nan                          nan                              nan                               0                                     nan                          nan                              nan                                  nan                                   0                                  nan                       nan                           nan                               nan                                0                                      nan                           nan                               nan                                   nan                                  \n",
              "1     AChep/AcDisplay                 0        30496591     0                                 nan                      nan                          nan                              nan                               0                                     nan                          nan                              nan                                  nan                                   0                                  nan                       nan                           nan                               nan                                0                                      nan                           nan                               nan                                   nan                                  \n",
              "2     ActiveJpa/activejpa             0        7493595      0                                 nan                      nan                          nan                              nan                               0                                     nan                          nan                              nan                                  nan                                   0                                  nan                       nan                           nan                               nan                                0                                      nan                           nan                               nan                                   nan                                  \n",
              "3     Albacore/albacore               0        2237661      0                                 nan                      nan                          nan                              nan                               0                                     nan                          nan                              nan                                  nan                                   0                                  nan                       nan                           nan                               nan                                0                                      nan                           nan                               nan                                   nan                                  \n",
              "4     ArturT/knapsack                 0        29171312     0                                 nan                      nan                          nan                              nan                               0                                     nan                          nan                              nan                                  nan                                   0                                  nan                       nan                           nan                               nan                                0                                      nan                           nan                               nan                                   nan                                  \n",
              "...               ...                ..             ...    ..                                  ..                       ..                           ..                               ..                              ..                                      ..                           ..                               ..                                   ..                                  ..                                   ..                        ..                            ..                                ..                               ..                                       ..                            ..                                ..                                    ..                                  \n",
              "1278  zhangkaitao/es                  0        4869884      0                                 nan                      nan                          nan                              nan                               0                                     nan                          nan                              nan                                  nan                                   0                                  nan                       nan                           nan                               nan                                0                                      nan                           nan                               nan                                   nan                                  \n",
              "1279  zinenko/vk-ruby                 0        331989       0                                 nan                      nan                          nan                              nan                               0                                     nan                          nan                              nan                                  nan                                   0                                  nan                       nan                           nan                               nan                                0                                      nan                           nan                               nan                                   nan                                  \n",
              "1280  zmoazeni/csscss                 0        5175224      0                                 nan                      nan                          nan                              nan                               0                                     nan                          nan                              nan                                  nan                                   0                                  nan                       nan                           nan                               nan                                0                                      nan                           nan                               nan                                   nan                                  \n",
              "1281  zquestz/omniauth-google-oauth2  0        8483676      0                                 nan                      nan                          nan                              nan                               0                                     nan                          nan                              nan                                  nan                                   0                                  nan                       nan                           nan                               nan                                0                                      nan                           nan                               nan                                   nan                                  \n",
              "1282  zxing/zxing                     0        17118420     0                                 nan                      nan                          nan                              nan                               0                                     nan                          nan                              nan                                  nan                                   0                                  nan                       nan                           nan                               nan                                0                                      nan                           nan                               nan                                   nan                                  \n",
              "\n",
              "[1283 rows x 23 columns]"
            ]
          },
          "metadata": {
            "tags": []
          },
          "execution_count": 8
        }
      ]
    },
    {
      "cell_type": "code",
      "metadata": {
        "id": "BLWPyqYUmWQO",
        "colab_type": "code",
        "colab": {}
      },
      "source": [
        "outliers = result[ (result['tr_log_num_tests_ok_is_outlier'] == True) | (result['tr_log_num_tests_failed_is_outlier'] == True) | (result['tr_log_num_tests_run_is_outlier'] == True) |\n",
        "       (result['tr_log_num_tests_skipped_is_outlier'] == True)].sort_values('tr_log_num_tests_ok', ascending = False)"
      ],
      "execution_count": 0,
      "outputs": []
    },
    {
      "cell_type": "code",
      "metadata": {
        "id": "eNofCRs8ACd6",
        "colab_type": "code",
        "outputId": "5d66ea8d-395a-4354-d847-3371b74e6861",
        "colab": {
          "base_uri": "https://localhost:8080/",
          "height": 51
        }
      },
      "source": [
        "outliers['gh_project_name'].unique()"
      ],
      "execution_count": 0,
      "outputs": [
        {
          "output_type": "execute_result",
          "data": {
            "text/plain": [
              "array(['owlike/genson', 'everzet/capifony', 'snitko/straight-server',\n",
              "       'paulasmuth/recommendify'], dtype=object)"
            ]
          },
          "metadata": {
            "tags": []
          },
          "execution_count": 10
        }
      ]
    },
    {
      "cell_type": "code",
      "metadata": {
        "id": "f7W_McN1AQ2b",
        "colab_type": "code",
        "outputId": "2fd7b2d4-3e36-4f0b-920b-5e9dbd601a6a",
        "colab": {
          "base_uri": "https://localhost:8080/",
          "height": 255
        }
      },
      "source": [
        "outlier_projects = outliers['gh_project_name'].unique()\n",
        "dataset[dataset['gh_project_name'].isin(outlier_projects)][['gh_project_name'] + target_cols].groupby('gh_project_name').describe()"
      ],
      "execution_count": 0,
      "outputs": [
        {
          "output_type": "execute_result",
          "data": {
            "text/html": [
              "<div>\n",
              "<style scoped>\n",
              "    .dataframe tbody tr th:only-of-type {\n",
              "        vertical-align: middle;\n",
              "    }\n",
              "\n",
              "    .dataframe tbody tr th {\n",
              "        vertical-align: top;\n",
              "    }\n",
              "\n",
              "    .dataframe thead tr th {\n",
              "        text-align: left;\n",
              "    }\n",
              "\n",
              "    .dataframe thead tr:last-of-type th {\n",
              "        text-align: right;\n",
              "    }\n",
              "</style>\n",
              "<table border=\"1\" class=\"dataframe\">\n",
              "  <thead>\n",
              "    <tr>\n",
              "      <th></th>\n",
              "      <th colspan=\"8\" halign=\"left\">tr_log_num_tests_ok</th>\n",
              "      <th colspan=\"8\" halign=\"left\">tr_log_num_tests_failed</th>\n",
              "      <th colspan=\"8\" halign=\"left\">tr_log_num_tests_run</th>\n",
              "      <th colspan=\"8\" halign=\"left\">tr_log_num_tests_skipped</th>\n",
              "    </tr>\n",
              "    <tr>\n",
              "      <th></th>\n",
              "      <th>count</th>\n",
              "      <th>mean</th>\n",
              "      <th>std</th>\n",
              "      <th>min</th>\n",
              "      <th>25%</th>\n",
              "      <th>50%</th>\n",
              "      <th>75%</th>\n",
              "      <th>max</th>\n",
              "      <th>count</th>\n",
              "      <th>mean</th>\n",
              "      <th>std</th>\n",
              "      <th>min</th>\n",
              "      <th>25%</th>\n",
              "      <th>50%</th>\n",
              "      <th>75%</th>\n",
              "      <th>max</th>\n",
              "      <th>count</th>\n",
              "      <th>mean</th>\n",
              "      <th>std</th>\n",
              "      <th>min</th>\n",
              "      <th>25%</th>\n",
              "      <th>50%</th>\n",
              "      <th>75%</th>\n",
              "      <th>max</th>\n",
              "      <th>count</th>\n",
              "      <th>mean</th>\n",
              "      <th>std</th>\n",
              "      <th>min</th>\n",
              "      <th>25%</th>\n",
              "      <th>50%</th>\n",
              "      <th>75%</th>\n",
              "      <th>max</th>\n",
              "    </tr>\n",
              "    <tr>\n",
              "      <th>gh_project_name</th>\n",
              "      <th></th>\n",
              "      <th></th>\n",
              "      <th></th>\n",
              "      <th></th>\n",
              "      <th></th>\n",
              "      <th></th>\n",
              "      <th></th>\n",
              "      <th></th>\n",
              "      <th></th>\n",
              "      <th></th>\n",
              "      <th></th>\n",
              "      <th></th>\n",
              "      <th></th>\n",
              "      <th></th>\n",
              "      <th></th>\n",
              "      <th></th>\n",
              "      <th></th>\n",
              "      <th></th>\n",
              "      <th></th>\n",
              "      <th></th>\n",
              "      <th></th>\n",
              "      <th></th>\n",
              "      <th></th>\n",
              "      <th></th>\n",
              "      <th></th>\n",
              "      <th></th>\n",
              "      <th></th>\n",
              "      <th></th>\n",
              "      <th></th>\n",
              "      <th></th>\n",
              "      <th></th>\n",
              "      <th></th>\n",
              "    </tr>\n",
              "  </thead>\n",
              "  <tbody>\n",
              "    <tr>\n",
              "      <th>everzet/capifony</th>\n",
              "      <td>204.000000</td>\n",
              "      <td>109.102941</td>\n",
              "      <td>18.058585</td>\n",
              "      <td>0.000000</td>\n",
              "      <td>103.500000</td>\n",
              "      <td>110.000000</td>\n",
              "      <td>122.000000</td>\n",
              "      <td>228.000000</td>\n",
              "      <td>204.000000</td>\n",
              "      <td>0.416667</td>\n",
              "      <td>4.399722</td>\n",
              "      <td>0.000000</td>\n",
              "      <td>0.000000</td>\n",
              "      <td>0.000000</td>\n",
              "      <td>0.000000</td>\n",
              "      <td>62.000000</td>\n",
              "      <td>204.000000</td>\n",
              "      <td>109.519608</td>\n",
              "      <td>16.631166</td>\n",
              "      <td>62.000000</td>\n",
              "      <td>104.000000</td>\n",
              "      <td>110.000000</td>\n",
              "      <td>122.000000</td>\n",
              "      <td>228.000000</td>\n",
              "      <td>204.000000</td>\n",
              "      <td>0.000000</td>\n",
              "      <td>0.000000</td>\n",
              "      <td>0.000000</td>\n",
              "      <td>0.000000</td>\n",
              "      <td>0.000000</td>\n",
              "      <td>0.000000</td>\n",
              "      <td>0.000000</td>\n",
              "    </tr>\n",
              "    <tr>\n",
              "      <th>owlike/genson</th>\n",
              "      <td>151.000000</td>\n",
              "      <td>52.655629</td>\n",
              "      <td>108.374170</td>\n",
              "      <td>0.000000</td>\n",
              "      <td>0.000000</td>\n",
              "      <td>0.000000</td>\n",
              "      <td>0.000000</td>\n",
              "      <td>279.000000</td>\n",
              "      <td>151.000000</td>\n",
              "      <td>0.013245</td>\n",
              "      <td>0.162758</td>\n",
              "      <td>0.000000</td>\n",
              "      <td>0.000000</td>\n",
              "      <td>0.000000</td>\n",
              "      <td>0.000000</td>\n",
              "      <td>2.000000</td>\n",
              "      <td>29.000000</td>\n",
              "      <td>274.241379</td>\n",
              "      <td>4.050178</td>\n",
              "      <td>265.000000</td>\n",
              "      <td>274.000000</td>\n",
              "      <td>274.000000</td>\n",
              "      <td>277.000000</td>\n",
              "      <td>279.000000</td>\n",
              "      <td>151.000000</td>\n",
              "      <td>0.000000</td>\n",
              "      <td>0.000000</td>\n",
              "      <td>0.000000</td>\n",
              "      <td>0.000000</td>\n",
              "      <td>0.000000</td>\n",
              "      <td>0.000000</td>\n",
              "      <td>0.000000</td>\n",
              "    </tr>\n",
              "    <tr>\n",
              "      <th>paulasmuth/recommendify</th>\n",
              "      <td>88.000000</td>\n",
              "      <td>79.170455</td>\n",
              "      <td>24.625107</td>\n",
              "      <td>7.000000</td>\n",
              "      <td>84.250000</td>\n",
              "      <td>89.000000</td>\n",
              "      <td>96.000000</td>\n",
              "      <td>99.000000</td>\n",
              "      <td>88.000000</td>\n",
              "      <td>1.590909</td>\n",
              "      <td>10.007625</td>\n",
              "      <td>0.000000</td>\n",
              "      <td>0.000000</td>\n",
              "      <td>0.000000</td>\n",
              "      <td>0.000000</td>\n",
              "      <td>92.000000</td>\n",
              "      <td>88.000000</td>\n",
              "      <td>80.761364</td>\n",
              "      <td>23.229982</td>\n",
              "      <td>14.000000</td>\n",
              "      <td>87.750000</td>\n",
              "      <td>89.000000</td>\n",
              "      <td>96.000000</td>\n",
              "      <td>99.000000</td>\n",
              "      <td>88.000000</td>\n",
              "      <td>6.000000</td>\n",
              "      <td>3.122039</td>\n",
              "      <td>0.000000</td>\n",
              "      <td>5.000000</td>\n",
              "      <td>6.000000</td>\n",
              "      <td>8.000000</td>\n",
              "      <td>17.000000</td>\n",
              "    </tr>\n",
              "    <tr>\n",
              "      <th>snitko/straight-server</th>\n",
              "      <td>119.000000</td>\n",
              "      <td>72.605042</td>\n",
              "      <td>15.890098</td>\n",
              "      <td>0.000000</td>\n",
              "      <td>62.000000</td>\n",
              "      <td>71.000000</td>\n",
              "      <td>82.000000</td>\n",
              "      <td>103.000000</td>\n",
              "      <td>129.000000</td>\n",
              "      <td>0.759690</td>\n",
              "      <td>4.898621</td>\n",
              "      <td>0.000000</td>\n",
              "      <td>0.000000</td>\n",
              "      <td>0.000000</td>\n",
              "      <td>0.000000</td>\n",
              "      <td>52.000000</td>\n",
              "      <td>119.000000</td>\n",
              "      <td>73.428571</td>\n",
              "      <td>14.417252</td>\n",
              "      <td>52.000000</td>\n",
              "      <td>62.000000</td>\n",
              "      <td>71.000000</td>\n",
              "      <td>82.000000</td>\n",
              "      <td>103.000000</td>\n",
              "      <td>119.000000</td>\n",
              "      <td>0.899160</td>\n",
              "      <td>0.302390</td>\n",
              "      <td>0.000000</td>\n",
              "      <td>1.000000</td>\n",
              "      <td>1.000000</td>\n",
              "      <td>1.000000</td>\n",
              "      <td>1.000000</td>\n",
              "    </tr>\n",
              "  </tbody>\n",
              "</table>\n",
              "</div>"
            ],
            "text/plain": [
              "                        tr_log_num_tests_ok                                                                            tr_log_num_tests_failed                                                                  tr_log_num_tests_run                                                                             tr_log_num_tests_skipped                                                                \n",
              "                        count               mean       std        min      25%        50%        75%        max        count                   mean     std       min      25%      50%      75%      max       count                mean       std       min        25%        50%        75%        max        count                    mean     std      min      25%      50%      75%      max      \n",
              "gh_project_name                                                                                                                                                                                                                                                                                                                                                                                          \n",
              "everzet/capifony        204.000000          109.102941 18.058585  0.000000 103.500000 110.000000 122.000000 228.000000 204.000000              0.416667 4.399722  0.000000 0.000000 0.000000 0.000000 62.000000 204.000000           109.519608 16.631166 62.000000  104.000000 110.000000 122.000000 228.000000 204.000000               0.000000 0.000000 0.000000 0.000000 0.000000 0.000000 0.000000 \n",
              "owlike/genson           151.000000          52.655629  108.374170 0.000000 0.000000   0.000000   0.000000   279.000000 151.000000              0.013245 0.162758  0.000000 0.000000 0.000000 0.000000 2.000000  29.000000            274.241379 4.050178  265.000000 274.000000 274.000000 277.000000 279.000000 151.000000               0.000000 0.000000 0.000000 0.000000 0.000000 0.000000 0.000000 \n",
              "paulasmuth/recommendify 88.000000           79.170455  24.625107  7.000000 84.250000  89.000000  96.000000  99.000000  88.000000               1.590909 10.007625 0.000000 0.000000 0.000000 0.000000 92.000000 88.000000            80.761364  23.229982 14.000000  87.750000  89.000000  96.000000  99.000000  88.000000                6.000000 3.122039 0.000000 5.000000 6.000000 8.000000 17.000000\n",
              "snitko/straight-server  119.000000          72.605042  15.890098  0.000000 62.000000  71.000000  82.000000  103.000000 129.000000              0.759690 4.898621  0.000000 0.000000 0.000000 0.000000 52.000000 119.000000           73.428571  14.417252 52.000000  62.000000  71.000000  82.000000  103.000000 119.000000               0.899160 0.302390 0.000000 1.000000 1.000000 1.000000 1.000000 "
            ]
          },
          "metadata": {
            "tags": []
          },
          "execution_count": 11
        }
      ]
    },
    {
      "cell_type": "code",
      "metadata": {
        "id": "kaEc6gIzBDNc",
        "colab_type": "code",
        "colab": {}
      },
      "source": [
        "outliers.sort_values(['gh_project_name', 'tr_build_id', 'tr_job_id'], ascending = True).to_csv('/content/drive/My Drive/DataAnalytics/outlier_report_1.csv')"
      ],
      "execution_count": 0,
      "outputs": []
    },
    {
      "cell_type": "code",
      "metadata": {
        "id": "5aVE62kXCvjC",
        "colab_type": "code",
        "outputId": "9594b361-21c9-43c0-e2af-707d18f7639f",
        "colab": {
          "base_uri": "https://localhost:8080/",
          "height": 1000
        }
      },
      "source": [
        "project = 'paulasmuth/recommendify'\n",
        "r = (dataset[ dataset['gh_project_name'] == project ][['gh_project_name','tr_build_id',\n",
        "                                                       'git_trigger_commit', 'git_num_all_built_commits', 'gh_build_started_at', 'tr_job_id',\n",
        "                                                       'tr_log_num_tests_ok', 'tr_log_num_tests_failed', 'tr_log_num_tests_run', 'tr_log_num_tests_skipped']]\n",
        "     .sort_values(['gh_project_name', 'tr_build_id', 'tr_job_id'], ascending = True))\n",
        "with pd.option_context('display.max_rows', None, 'display.max_columns', None):  # more options can be specified also\n",
        "    print(len(r))\n",
        "    print(r)"
      ],
      "execution_count": 0,
      "outputs": [
        {
          "output_type": "stream",
          "text": [
            "88\n",
            "        gh_project_name           tr_build_id git_trigger_commit                         git_num_all_built_commits gh_build_started_at   tr_job_id  tr_log_num_tests_ok  tr_log_num_tests_failed  tr_log_num_tests_run  tr_log_num_tests_skipped\n",
            "93334    paulasmuth/recommendify  595587       07c31c2fc6329bd17b0f68a4b796f16cecf8d653  20                         2012-01-29 20:56:42  595588    14.000000            0.000000                 14.000000             0.000000                 \n",
            "93338    paulasmuth/recommendify  595628       52d6668a4f35c5f746d56ba726346d911f108d33  1                          2012-01-29 21:06:36  595629    16.000000            0.000000                 16.000000             0.000000                 \n",
            "93346    paulasmuth/recommendify  595697       c9e46746164eea44fd276c7b9309d39674b1e85b  1                          2012-01-29 21:22:51  595698    20.000000            0.000000                 20.000000             0.000000                 \n",
            "93356    paulasmuth/recommendify  595764       6bdf09914766894a95961ca70f7b6bb62810e30d  1                          2012-01-29 21:35:30  595765    20.000000            2.000000                 22.000000             0.000000                 \n",
            "93359    paulasmuth/recommendify  595830       7ad2ab27e5b708bb15028a80024089198fe8aa91  1                          2012-01-29 21:47:56  595831    22.000000            0.000000                 22.000000             0.000000                 \n",
            "93364    paulasmuth/recommendify  595864       03d15f5315dda4e11665320d301da63f1491b466  1                          2012-01-29 22:00:49  595865    26.000000            0.000000                 26.000000             0.000000                 \n",
            "93365    paulasmuth/recommendify  595884       a4e6cc003803a90b1b37cd1e33333ee3b1469d6a  1                          2012-01-29 22:08:10  595885    26.000000            0.000000                 26.000000             0.000000                 \n",
            "93405    paulasmuth/recommendify  596421       ab14976a2245db0550049660c3a58c034765eafd  1                          2012-01-30 01:05:14  596422    26.000000            0.000000                 26.000000             0.000000                 \n",
            "93406    paulasmuth/recommendify  596424       46eaa95b9e8f9950bf699649ecbfb74bf095c558  1                          2012-01-30 01:12:19  596425    26.000000            0.000000                 26.000000             0.000000                 \n",
            "93407    paulasmuth/recommendify  596440       91f24d1f1240b8f5dff7788c9881657dcd7e5c16  1                          2012-01-30 01:15:47  596441    26.000000            0.000000                 26.000000             0.000000                 \n",
            "94008    paulasmuth/recommendify  600277       576bd52f2ddc1ad981797c6c0fe93e210b332662  8                          2012-01-30 19:04:45  600278    53.000000            0.000000                 53.000000             5.000000                 \n",
            "94009    paulasmuth/recommendify  600286       e9a28713349b3e012b7a7309ed94a7c17806c17b  1                          2012-01-30 19:07:42  600287    54.000000            0.000000                 54.000000             5.000000                 \n",
            "94010    paulasmuth/recommendify  600335       9b1215aef498aed8cc1a5e01ff3e08dbc7715c2d  1                          2012-01-30 19:11:04  600336    54.000000            0.000000                 54.000000             5.000000                 \n",
            "94011    paulasmuth/recommendify  600349       c6e4a73dbb775c8fb66b55ceef8cd7c0446f7796  1                          2012-01-30 19:17:28  600350    54.000000            0.000000                 54.000000             5.000000                 \n",
            "94030    paulasmuth/recommendify  600478       27fb5881aa66a28bb308073bdf9a9fe33b5b33d5  2                          2012-01-30 19:39:03  600479    66.000000            0.000000                 66.000000             17.000000                \n",
            "94093    paulasmuth/recommendify  601022       a08a525a12346e953f4672e52d6e882a25512d76  9                          2012-01-30 21:24:27  601023    69.000000            3.000000                 72.000000             10.000000                \n",
            "94152    paulasmuth/recommendify  601355       5ac39d8864fd3c47889d8b07a48f9af053b63cac  3                          2012-01-30 22:19:36  601356    75.000000            1.000000                 76.000000             10.000000                \n",
            "94997    paulasmuth/recommendify  606046       d2a9052dccc55be84021c285d87d6cf7d3a87404  2                          2012-01-31 20:39:48  606047    64.000000            12.000000                76.000000             10.000000                \n",
            "95018    paulasmuth/recommendify  606201       fcd888ad253015f730aea0214a120c4a6508010a  2                          2012-01-31 21:25:30  606202    64.000000            12.000000                76.000000             10.000000                \n",
            "95058    paulasmuth/recommendify  606477       a61d3ae65aa0bb60b1671e490e9afa3afa3a53d0  1                          2012-01-31 22:34:55  606478    64.000000            12.000000                76.000000             10.000000                \n",
            "95059    paulasmuth/recommendify  606508       57b9b80a0d86652f2a902f59b13b7dbbb842a395  1                          2012-01-31 22:36:55  606509    76.000000            0.000000                 76.000000             10.000000                \n",
            "95117    paulasmuth/recommendify  607049       c377a4f0b323ef49302e247e8e05de2f5a8d582e  5                          2012-01-31 23:51:43  607050    88.000000            0.000000                 88.000000             12.000000                \n",
            "95121    paulasmuth/recommendify  607150       e2e5b35d07e6f4c486c07be4a316f680bccc2dca  1                          2012-02-01 00:12:27  607151    88.000000            0.000000                 88.000000             12.000000                \n",
            "95122    paulasmuth/recommendify  607180       be906cc7d3c9193433eeb29c682d2fa0624ce926  1                          2012-02-01 00:23:29  607181    88.000000            0.000000                 88.000000             12.000000                \n",
            "95868    paulasmuth/recommendify  611360       b617407fb2a943abfa13bba774182f2c497701a6  1                          2012-02-01 20:25:17  611361    88.000000            0.000000                 88.000000             10.000000                \n",
            "95904    paulasmuth/recommendify  611612       628eedf5a06c93d22da8bc79a4fbf5a01b6e445d  3                          2012-02-01 21:08:34  611613    87.000000            0.000000                 87.000000             5.000000                 \n",
            "95926    paulasmuth/recommendify  611736       54036ea7d31c4c705dda83039aef738ce04b3b5d  2                          2012-02-01 21:42:42  611737    88.000000            0.000000                 88.000000             5.000000                 \n",
            "95977    paulasmuth/recommendify  612201       765fd4e4e60efcbfd6fdfa3373b53175379644cb  1                          2012-02-01 23:16:01  612202    88.000000            0.000000                 88.000000             5.000000                 \n",
            "95986    paulasmuth/recommendify  612228       1f2420b70c52e6414b996c925911b018edf1d21f  1                          2012-02-01 23:21:02  612229    88.000000            0.000000                 88.000000             5.000000                 \n",
            "95987    paulasmuth/recommendify  612247       c44b956e017c422fa37b9cd6ef3f5886ab0985d6  1                          2012-02-01 23:30:15  612248    88.000000            0.000000                 88.000000             5.000000                 \n",
            "96022    paulasmuth/recommendify  612338       a518b4561cf1e78eae2f34dd645ab9a02902997a  1                          2012-02-01 23:47:28  612339    88.000000            0.000000                 88.000000             5.000000                 \n",
            "96023    paulasmuth/recommendify  612513       54a4f78f54bcb07fd7b41b718958f28764a0c21d  1                          2012-02-02 00:10:36  612514    88.000000            0.000000                 88.000000             5.000000                 \n",
            "96024    paulasmuth/recommendify  612529       e957c79a1373bc2723cd995dfcad13ce76259362  1                          2012-02-02 00:11:04  612530    88.000000            0.000000                 88.000000             5.000000                 \n",
            "96025    paulasmuth/recommendify  612535       a46ef9ce17d9672b34d6040889e582ace95d545f  2                          2012-02-02 00:11:15  612536    88.000000            0.000000                 88.000000             5.000000                 \n",
            "96034    paulasmuth/recommendify  612559       5b8b45f894317f9d298f0f62cdbfa59ea2ce2f12  1                          2012-02-02 00:12:07  612560    88.000000            0.000000                 88.000000             5.000000                 \n",
            "96037    paulasmuth/recommendify  612615       61422017843205364d3ee3499828ad6ca93ae373  1                          2012-02-02 00:29:09  612616    88.000000            0.000000                 88.000000             5.000000                 \n",
            "96038    paulasmuth/recommendify  612619       9da4429db3430e9da864b793a467abe315d4bd3f  1                          2012-02-02 00:30:09  612620    88.000000            0.000000                 88.000000             5.000000                 \n",
            "97567    paulasmuth/recommendify  623880       b7018f28b1c5fd55ae3350c6757b12ed3c65436f  1                          2012-02-04 01:19:38  623881    88.000000            0.000000                 88.000000             5.000000                 \n",
            "99853    paulasmuth/recommendify  640858       6ea1dcaac1629da4cebd0feb0dba25291e6f4063  1                          2012-02-07 21:24:39  640859    89.000000            0.000000                 89.000000             6.000000                 \n",
            "99854    paulasmuth/recommendify  640894       6ea1dcaac1629da4cebd0feb0dba25291e6f4063  1                          2012-02-07 21:29:01  640895    89.000000            0.000000                 89.000000             6.000000                 \n",
            "99855    paulasmuth/recommendify  640902       6a12cce2df2896bf1c4722e546ecf26c3136c244  1                          2012-02-07 21:29:06  640903    89.000000            0.000000                 89.000000             6.000000                 \n",
            "102725   paulasmuth/recommendify  663511       23721337931aa3f64ccbc1ed05ea714903380288  2                          2012-02-11 21:19:28  663512    89.000000            0.000000                 89.000000             6.000000                 \n",
            "102732   paulasmuth/recommendify  663657       03b549fb88746d89178c0d847097ede379fc393e  1                          2012-02-11 22:07:16  663658    89.000000            0.000000                 89.000000             6.000000                 \n",
            "102733   paulasmuth/recommendify  663686       0d925c599844ea427f5f4373c4c9734f088f6285  2                          2012-02-11 22:17:15  663687    89.000000            0.000000                 89.000000             6.000000                 \n",
            "102734   paulasmuth/recommendify  663698       c6301ebe7aa234f2f24abbbba847dfa4ec504131  1                          2012-02-11 22:22:41  663699    89.000000            0.000000                 89.000000             6.000000                 \n",
            "102735   paulasmuth/recommendify  663709       051240dff2d3479184526bb45c05f971abcc0778  1                          2012-02-11 22:26:31  663710    89.000000            0.000000                 89.000000             6.000000                 \n",
            "102760   paulasmuth/recommendify  663898       239f95c86ad38f263f33937f0564913daa76e0db  1                          2012-02-11 23:18:33  663899    89.000000            0.000000                 89.000000             6.000000                 \n",
            "102787   paulasmuth/recommendify  664060       fe1f2abe8b8018d956eafd13b65127a17c93a919  1                          2012-02-11 23:44:43  664061    89.000000            0.000000                 89.000000             6.000000                 \n",
            "102792   paulasmuth/recommendify  664106       c57639af1318c753fc24c31c844d13e255ad5e81  1                          2012-02-11 23:51:32  664107    89.000000            0.000000                 89.000000             6.000000                 \n",
            "102793   paulasmuth/recommendify  664148       adc839fc6fae2ff06eb64385fe0950b24fcad22d  1                          2012-02-12 00:03:58  664149    89.000000            0.000000                 89.000000             6.000000                 \n",
            "102794   paulasmuth/recommendify  664189       5ecb20ce8c21297d44e102d864faccec1bd49264  1                          2012-02-12 00:19:49  664190    89.000000            0.000000                 89.000000             6.000000                 \n",
            "102795   paulasmuth/recommendify  664223       3f5dfd7e076238654712b294f4ed724cef1906e3  1                          2012-02-12 00:24:35  664224    89.000000            0.000000                 89.000000             6.000000                 \n",
            "102798   paulasmuth/recommendify  664443       08dc2c947c677d834997d8b34a75f7b4594c80d6  1                          2012-02-12 01:40:01  664444    89.000000            0.000000                 89.000000             6.000000                 \n",
            "102799   paulasmuth/recommendify  664554       a245f56b52a3e2bae7242f453f5d5bd3908d67a9  2                          2012-02-12 02:20:39  664555    89.000000            0.000000                 89.000000             6.000000                 \n",
            "102804   paulasmuth/recommendify  664622       12bf96e189bcbae180b0e53f22e61d517dc4f147  1                          2012-02-12 02:41:11  664623    89.000000            0.000000                 89.000000             6.000000                 \n",
            "102805   paulasmuth/recommendify  664704       a143ced33a635fe8abcfe8184ee66cf99866e021  3                          2012-02-12 03:41:31  664705    89.000000            0.000000                 89.000000             6.000000                 \n",
            "102829   paulasmuth/recommendify  664763       a830105951070d2f31680ae742a00dcf76d6568a  1                          2012-02-12 04:01:05  664764    89.000000            0.000000                 89.000000             6.000000                 \n",
            "102833   paulasmuth/recommendify  664779       ba0e34e4b54cccdc9f64b47befa63e9a7ab7ef27  1                          2012-02-12 04:04:44  664780    89.000000            0.000000                 89.000000             6.000000                 \n",
            "102837   paulasmuth/recommendify  664964       2037d31bfcb138f7512b77b2f8189df76dccec01  1                          2012-02-12 05:17:22  664965    89.000000            0.000000                 89.000000             6.000000                 \n",
            "102838   paulasmuth/recommendify  664987       71ab1e78fb9aa8ced9c0c3e7c4cb513eb60cccd8  1                          2012-02-12 05:24:42  664988    89.000000            0.000000                 89.000000             6.000000                 \n",
            "102839   paulasmuth/recommendify  665025       61b3e1041ab53cda0fd8503d286e032469701068  2                          2012-02-12 05:47:10  665026    89.000000            0.000000                 89.000000             6.000000                 \n",
            "102976   paulasmuth/recommendify  666475       fd988de85a85f3cc198e33a9c91e8fe1c5b0f5ed  1                          2012-02-12 16:29:10  666476    89.000000            0.000000                 89.000000             6.000000                 \n",
            "102977   paulasmuth/recommendify  666491       628bc5d13c90375448c258ad915517b971ecd6d7  1                          2012-02-12 16:35:47  666492    89.000000            0.000000                 89.000000             6.000000                 \n",
            "103011   paulasmuth/recommendify  666948       13746d405dcc9369f414e12bd9d3aac0153058ea  1                          2012-02-12 18:29:54  666949    91.000000            5.000000                 96.000000             8.000000                 \n",
            "103012   paulasmuth/recommendify  667032       9d797823913d4f6da15c59d2cb75f190cf1802b4  1                          2012-02-12 18:40:55  667033    96.000000            0.000000                 96.000000             8.000000                 \n",
            "103013   paulasmuth/recommendify  667041       3468ab6340db72accf43c23c0df322a47d44004a  1                          2012-02-12 18:41:24  667042    96.000000            0.000000                 96.000000             8.000000                 \n",
            "103020   paulasmuth/recommendify  667097       4ff74bffed7da5adad278d3a4a44983e0a672c58  2                          2012-02-12 18:48:35  667098    96.000000            0.000000                 96.000000             8.000000                 \n",
            "103021   paulasmuth/recommendify  667200       ad1d6f22cc669991e006992e8f1c3bcfaa6bee9e  2                          2012-02-12 19:02:03  667201    96.000000            0.000000                 96.000000             8.000000                 \n",
            "103168   paulasmuth/recommendify  668297       4eeab5f976b14414839b83ea801b575337f559c7  1                          2012-02-12 22:23:05  668298    96.000000            0.000000                 96.000000             8.000000                 \n",
            "103172   paulasmuth/recommendify  668332       9473807050e1fe37c100fce1be940b80606ec489  1                          2012-02-12 22:41:06  668333    96.000000            0.000000                 96.000000             8.000000                 \n",
            "103173   paulasmuth/recommendify  668344       04173e63a80a1bd3d7992f8c5c4dc3660e878d23  1                          2012-02-12 22:45:56  668345    96.000000            0.000000                 96.000000             8.000000                 \n",
            "103182   paulasmuth/recommendify  668437       ec429c7136e53c3dc31b756262e1f2315b51d6f8  1                          2012-02-12 23:11:04  668438    96.000000            0.000000                 96.000000             8.000000                 \n",
            "103183   paulasmuth/recommendify  668454       31a373e43fd1452c5a760562ea71b6b8a508b4a5  1                          2012-02-12 23:20:02  668455    96.000000            0.000000                 96.000000             8.000000                 \n",
            "103184   paulasmuth/recommendify  668477       15817e54dd19b41c8c73e40c9e1aca14e2c11d10  1                          2012-02-12 23:24:52  668478    96.000000            0.000000                 96.000000             8.000000                 \n",
            "103185   paulasmuth/recommendify  668509       42bf1a603f1216382a66e20dedeeda0c4838d685  1                          2012-02-12 23:33:59  668510    96.000000            0.000000                 96.000000             8.000000                 \n",
            "103186   paulasmuth/recommendify  668520       f0bbe9a769f7c57cea55baa84a253b62c5b59bcc  1                          2012-02-12 23:36:07  668521    96.000000            0.000000                 96.000000             8.000000                 \n",
            "112320   paulasmuth/recommendify  740188       cde9e9287649bd0219730fdef6c10a187e6e01a0  2                          2012-02-25 12:24:05  740189    97.000000            0.000000                 97.000000             8.000000                 \n",
            "112340   paulasmuth/recommendify  740236       7ce05b5eadcbb9de08336ae304b11f41e9c2a7c2  1                          2012-02-25 12:28:32  740237    97.000000            0.000000                 97.000000             8.000000                 \n",
            "121146   paulasmuth/recommendify  823433       23111bcc3cb0ac0ef80a6697338a4838e7908f7e  1                          2012-03-08 20:39:28  823434    97.000000            0.000000                 97.000000             8.000000                 \n",
            "121627   paulasmuth/recommendify  828562       5f7c859ae15c5a6fda5ecd4cf54911819ad65c3d  3                          2012-03-09 16:23:50  828563    98.000000            1.000000                 99.000000             8.000000                 \n",
            "121723   paulasmuth/recommendify  829145       ff49dbdb822b81dd573dc3fb57da62f88d69f5c3  1                          2012-03-09 17:38:12  829146    99.000000            0.000000                 99.000000             8.000000                 \n",
            "123659   paulasmuth/recommendify  845337       5858793052dec8fda96998d41417679d0d3ba4a2  2                          2012-03-12 09:51:35  845338    99.000000            0.000000                 99.000000             8.000000                 \n",
            "124234   paulasmuth/recommendify  849004       625c668a3435f4cc76ad39d181219b41618f00ff  3                          2012-03-12 19:52:08  849005    99.000000            0.000000                 99.000000             3.000000                 \n",
            "124242   paulasmuth/recommendify  849141       d192d9ae604526d805c2cf97acf3a5b9c95d5688  2                          2012-03-12 20:02:58  849142    99.000000            0.000000                 99.000000             3.000000                 \n",
            "124264   paulasmuth/recommendify  849459       34308c41800a0ea9b02842c4cf84e8bcc5dd1f63  3                          2012-03-12 20:37:00  849460    99.000000            0.000000                 99.000000             3.000000                 \n",
            "130681   paulasmuth/recommendify  905036       285fc81c701f42ddb7c5fa446c2e24fc0c4c95b5  1                          2012-03-20 08:48:59  905037    99.000000            0.000000                 99.000000             3.000000                 \n",
            "130806   paulasmuth/recommendify  906184       15ad976b703695ecc4f24b08d3a7b86ef01180fe  2                          2012-03-20 12:44:21  906185    99.000000            0.000000                 99.000000             3.000000                 \n",
            "1329443  paulasmuth/recommendify  24748285     1a012be623c53798e18dc526dbacd133434f40cb  11                         2014-05-08 21:20:02  24748286  7.000000             92.000000                99.000000             3.000000                 \n"
          ],
          "name": "stdout"
        }
      ]
    },
    {
      "cell_type": "code",
      "metadata": {
        "id": "hDbfT1PIOXMO",
        "colab_type": "code",
        "colab": {}
      },
      "source": [
        "gr = dataset[ dataset['gh_project_name'] == project ][['gh_build_started_at', 'tr_log_num_tests_ok']].reset_index(drop=True)\n"
      ],
      "execution_count": 0,
      "outputs": []
    },
    {
      "cell_type": "code",
      "metadata": {
        "id": "qGu5nXj7QeKh",
        "colab_type": "code",
        "outputId": "e73b7419-19ce-4f6f-a1a7-e086c4dd9683",
        "colab": {
          "base_uri": "https://localhost:8080/",
          "height": 128
        }
      },
      "source": [
        "gr['gh_build_started_at'] = pd.to_datetime(gr['gh_build_started_at'])\n",
        "\n",
        "# gr.plot(kind = 'line', figsize= (15, 10))\n",
        "\n",
        "# gr.plot(kind ='line',x = 'gh_build_started_at', y = 'tr_log_num_tests_ok')\n",
        "# gr.plot(kind = 'hist', bins = 2)\n",
        "fig, ax = plt.subplots()\n",
        "fig.subplots_adjust(bottom=0.3)\n",
        "xxx = gr['gh_build_started_at'].apply(lambda x: x.strftime('%Y-%m-%d')) \n",
        "\n",
        "xfmt = mdates.DateFormatter('%Y-%m')\n",
        "plt.gca().xaxis.set_major_formatter(xfmt)\n",
        "\n",
        "plt.xticks( gr['gh_build_started_at'],rotation=90)\n",
        "# plt.gcf().autofmt_xdate()\n",
        "plt.plot(gr.set_index('gh_build_started_at'))"
      ],
      "execution_count": 0,
      "outputs": [
        {
          "output_type": "execute_result",
          "data": {
            "text/plain": [
              "[<matplotlib.lines.Line2D at 0x7f7473a0be80>]"
            ]
          },
          "metadata": {
            "tags": []
          },
          "execution_count": 103
        },
        {
          "output_type": "display_data",
          "data": {
            "image/png": "[encoded data removed]",
            "text/plain": [
              "<Figure size 432x288 with 1 Axes>"
            ]
          },
          "metadata": {
            "tags": []
          }
        }
      ]
    },
    {
      "cell_type": "code",
      "metadata": {
        "id": "k17TX0yhYhmc",
        "colab_type": "code",
        "outputId": "8a0145ee-273d-4ca0-a7a2-89a57ad72b5e",
        "colab": {
          "base_uri": "https://localhost:8080/",
          "height": 221
        }
      },
      "source": [
        "\n",
        "gr['gh_build_started_at'].apply(lambda x: x.strftime('%Y-%m-%d')) "
      ],
      "execution_count": 0,
      "outputs": [
        {
          "output_type": "execute_result",
          "data": {
            "text/plain": [
              "0     2012-01-29\n",
              "1     2012-01-29\n",
              "2     2012-01-29\n",
              "3     2012-01-29\n",
              "4     2012-01-29\n",
              "         ...    \n",
              "83    2012-03-12\n",
              "84    2012-03-12\n",
              "85    2012-03-20\n",
              "86    2012-03-20\n",
              "87    2014-05-08\n",
              "Name: gh_build_started_at, Length: 88, dtype: object"
            ]
          },
          "metadata": {
            "tags": []
          },
          "execution_count": 96
        }
      ]
    },
    {
      "cell_type": "markdown",
      "metadata": {
        "id": "dzi8SOIzCooV",
        "colab_type": "text"
      },
      "source": [
        "# Resoning of outlier behaviors"
      ]
    },
    {
      "cell_type": "markdown",
      "metadata": {
        "id": "ndNHE6PNQFa-",
        "colab_type": "text"
      },
      "source": [
        "## Verifying that number of test run = number of test passed + no of tests failed"
      ]
    },
    {
      "cell_type": "code",
      "metadata": {
        "id": "wYEok2s3oAit",
        "colab_type": "code",
        "colab": {}
      },
      "source": [
        "# ['tr_log_num_tests_ok', 'tr_log_num_tests_failed', 'tr_log_num_tests_run', 'tr_log_num_tests_skipped']\n",
        "v_data = dataset[ ['tr_log_num_tests_ok', 'tr_log_num_tests_failed', 'tr_log_num_tests_run', 'tr_log_num_tests_skipped']]\n",
        "v_data [ 'total']  = dataset['tr_log_num_tests_ok'] + dataset['tr_log_num_tests_failed']\n",
        "v_data.sort_values(['tr_log_num_tests_failed'], ascending = False)\n",
        "v_data = v_data.dropna()\n",
        "v_data[ v_data['total'] != v_data['tr_log_num_tests_run'] ]"
      ],
      "execution_count": 0,
      "outputs": []
    },
    {
      "cell_type": "markdown",
      "metadata": {
        "id": "CSprBIbPR6Ua",
        "colab_type": "text"
      },
      "source": [
        "# Descriptive tasks"
      ]
    },
    {
      "cell_type": "code",
      "metadata": {
        "id": "h6zjEz1uR-Lq",
        "colab_type": "code",
        "colab": {}
      },
      "source": [
        "## Relation between line of code and number of tests"
      ],
      "execution_count": 0,
      "outputs": []
    },
    {
      "cell_type": "code",
      "metadata": {
        "id": "igw1yo70SYYF",
        "colab_type": "code",
        "colab": {}
      },
      "source": [
        "data"
      ],
      "execution_count": 0,
      "outputs": []
    },
    {
      "cell_type": "code",
      "metadata": {
        "id": "IvhckJwvSJk3",
        "colab_type": "code",
        "outputId": "dcf39e19-6a14-4922-f570-847efcc975f5",
        "colab": {
          "base_uri": "https://localhost:8080/",
          "height": 213
        }
      },
      "source": [
        "d1_data = dataset[['gh_sloc', 'tr_log_num_tests_run', 'tr_log_num_tests_skipped']]\n",
        "d1_data['total_tests'] = dataset['tr_log_num_tests_run'] + dataset['tr_log_num_tests_skipped']\n",
        "d1_data[['gh_sloc', 'total_tests']].corr()"
      ],
      "execution_count": 0,
      "outputs": [
        {
          "output_type": "stream",
          "text": [
            "/usr/local/lib/python3.6/dist-packages/ipykernel_launcher.py:2: SettingWithCopyWarning: \n",
            "A value is trying to be set on a copy of a slice from a DataFrame.\n",
            "Try using .loc[row_indexer,col_indexer] = value instead\n",
            "\n",
            "See the caveats in the documentation: http://pandas.pydata.org/pandas-docs/stable/user_guide/indexing.html#returning-a-view-versus-a-copy\n",
            "  \n"
          ],
          "name": "stderr"
        },
        {
          "output_type": "execute_result",
          "data": {
            "text/html": [
              "<div>\n",
              "<style scoped>\n",
              "    .dataframe tbody tr th:only-of-type {\n",
              "        vertical-align: middle;\n",
              "    }\n",
              "\n",
              "    .dataframe tbody tr th {\n",
              "        vertical-align: top;\n",
              "    }\n",
              "\n",
              "    .dataframe thead th {\n",
              "        text-align: right;\n",
              "    }\n",
              "</style>\n",
              "<table border=\"1\" class=\"dataframe\">\n",
              "  <thead>\n",
              "    <tr style=\"text-align: left;\">\n",
              "      <th></th>\n",
              "      <th>gh_sloc</th>\n",
              "      <th>total_tests</th>\n",
              "    </tr>\n",
              "  </thead>\n",
              "  <tbody>\n",
              "    <tr>\n",
              "      <th>gh_sloc</th>\n",
              "      <td>1.000000</td>\n",
              "      <td>0.054839</td>\n",
              "    </tr>\n",
              "    <tr>\n",
              "      <th>total_tests</th>\n",
              "      <td>0.054839</td>\n",
              "      <td>1.000000</td>\n",
              "    </tr>\n",
              "  </tbody>\n",
              "</table>\n",
              "</div>"
            ],
            "text/plain": [
              "             gh_sloc  total_tests\n",
              "gh_sloc     1.000000 0.054839    \n",
              "total_tests 0.054839 1.000000    "
            ]
          },
          "metadata": {
            "tags": []
          },
          "execution_count": 84
        }
      ]
    },
    {
      "cell_type": "code",
      "metadata": {
        "id": "otdwJr0-Tke5",
        "colab_type": "code",
        "colab": {}
      },
      "source": [
        "d1_data_sample = d1_data.sample(100)"
      ],
      "execution_count": 0,
      "outputs": []
    },
    {
      "cell_type": "code",
      "metadata": {
        "id": "uwHSu7q0TBmz",
        "colab_type": "code",
        "outputId": "b266e834-3dbe-40e5-fe77-eb2f8926e358",
        "colab": {
          "base_uri": "https://localhost:8080/",
          "height": 283
        }
      },
      "source": [
        "d1_data_sample.plot(kind = 'point', y = 'total_tests', figsize = (20, 15))"
      ],
      "execution_count": 0,
      "outputs": [
        {
          "output_type": "error",
          "ename": "ValueError",
          "evalue": "ignored",
          "traceback": [
            "\u001b[0;31m---------------------------------------------------------------------------\u001b[0m",
            "\u001b[0;31mValueError\u001b[0m                                Traceback (most recent call last)",
            "\u001b[0;32m<ipython-input-89-f56578982321>\u001b[0m in \u001b[0;36m<module>\u001b[0;34m()\u001b[0m\n\u001b[0;32m----> 1\u001b[0;31m \u001b[0md1_data_sample\u001b[0m\u001b[0;34m.\u001b[0m\u001b[0mplot\u001b[0m\u001b[0;34m(\u001b[0m\u001b[0mkind\u001b[0m \u001b[0;34m=\u001b[0m \u001b[0;34m'point'\u001b[0m\u001b[0;34m,\u001b[0m \u001b[0my\u001b[0m \u001b[0;34m=\u001b[0m \u001b[0;34m'total_tests'\u001b[0m\u001b[0;34m,\u001b[0m \u001b[0mfigsize\u001b[0m \u001b[0;34m=\u001b[0m \u001b[0;34m(\u001b[0m\u001b[0;36m20\u001b[0m\u001b[0;34m,\u001b[0m \u001b[0;36m15\u001b[0m\u001b[0;34m)\u001b[0m\u001b[0;34m)\u001b[0m\u001b[0;34m\u001b[0m\u001b[0;34m\u001b[0m\u001b[0m\n\u001b[0m",
            "\u001b[0;32m/usr/local/lib/python3.6/dist-packages/pandas/plotting/_core.py\u001b[0m in \u001b[0;36m__call__\u001b[0;34m(self, *args, **kwargs)\u001b[0m\n\u001b[1;32m    724\u001b[0m         \u001b[0mkind\u001b[0m \u001b[0;34m=\u001b[0m \u001b[0mself\u001b[0m\u001b[0;34m.\u001b[0m\u001b[0m_kind_aliases\u001b[0m\u001b[0;34m.\u001b[0m\u001b[0mget\u001b[0m\u001b[0;34m(\u001b[0m\u001b[0mkind\u001b[0m\u001b[0;34m,\u001b[0m \u001b[0mkind\u001b[0m\u001b[0;34m)\u001b[0m\u001b[0;34m\u001b[0m\u001b[0;34m\u001b[0m\u001b[0m\n\u001b[1;32m    725\u001b[0m         \u001b[0;32mif\u001b[0m \u001b[0mkind\u001b[0m \u001b[0;32mnot\u001b[0m \u001b[0;32min\u001b[0m \u001b[0mself\u001b[0m\u001b[0;34m.\u001b[0m\u001b[0m_all_kinds\u001b[0m\u001b[0;34m:\u001b[0m\u001b[0;34m\u001b[0m\u001b[0;34m\u001b[0m\u001b[0m\n\u001b[0;32m--> 726\u001b[0;31m             \u001b[0;32mraise\u001b[0m \u001b[0mValueError\u001b[0m\u001b[0;34m(\u001b[0m\u001b[0;34m\"{} is not a valid plot kind\"\u001b[0m\u001b[0;34m.\u001b[0m\u001b[0mformat\u001b[0m\u001b[0;34m(\u001b[0m\u001b[0mkind\u001b[0m\u001b[0;34m)\u001b[0m\u001b[0;34m)\u001b[0m\u001b[0;34m\u001b[0m\u001b[0;34m\u001b[0m\u001b[0m\n\u001b[0m\u001b[1;32m    727\u001b[0m \u001b[0;34m\u001b[0m\u001b[0m\n\u001b[1;32m    728\u001b[0m         \u001b[0;31m# The original data structured can be transformed before passed to the\u001b[0m\u001b[0;34m\u001b[0m\u001b[0;34m\u001b[0m\u001b[0;34m\u001b[0m\u001b[0m\n",
            "\u001b[0;31mValueError\u001b[0m: point is not a valid plot kind"
          ]
        }
      ]
    },
    {
      "cell_type": "code",
      "metadata": {
        "id": "e7hukerOTZod",
        "colab_type": "code",
        "outputId": "e2b72e10-b9d7-41a8-8595-998c18b4f2fa",
        "colab": {
          "base_uri": "https://localhost:8080/",
          "height": 935
        }
      },
      "source": [
        "d1_data.plot(kind = 'line', y = 'gh_sloc', figsize = (20, 15))"
      ],
      "execution_count": 0,
      "outputs": [
        {
          "output_type": "execute_result",
          "data": {
            "text/plain": [
              "<matplotlib.axes._subplots.AxesSubplot at 0x7f978dd5d978>"
            ]
          },
          "metadata": {
            "tags": []
          },
          "execution_count": 86
        },
        {
          "output_type": "display_data",
          "data": {
            "image/png": "[encoded data removed]",
            "text/plain": [
              "<Figure size 1440x1080 with 1 Axes>"
            ]
          },
          "metadata": {
            "tags": []
          }
        }
      ]
    }
  ]
}